{
  "cells": [
    {
      "cell_type": "markdown",
      "metadata": {
        "id": "view-in-github",
        "colab_type": "text"
      },
      "source": [
        "<a href=\"https://colab.research.google.com/github/yiqiushen/tutorials/blob/main/Tutorial_2024_Data_Analysis_Part.ipynb\" target=\"_parent\"><img src=\"https://colab.research.google.com/assets/colab-badge.svg\" alt=\"Open In Colab\"/></a>"
      ]
    },
    {
      "cell_type": "markdown",
      "metadata": {
        "id": "VcVs_cwnXDKF"
      },
      "source": [
        "# Tutorial 1: Introduction to Data Wrangling and Explanatory Data Analysis (EDA)\n",
        "\n",
        "This original tutorial is written by Yiqiu Shen (yiqiushe@usc.edu) for the USC JumpStart Summer Program 2024 at the Department of Data Sciences and Operations, Marshall School of Business. Should you have any questions, feel free to contact me.  \n",
        "\n",
        "## Data Wrangling"
      ]
    },
    {
      "cell_type": "markdown",
      "metadata": {
        "id": "e0HpHFNlXDKH"
      },
      "source": [
        "The datasets we will use are: https://www.kaggle.com/datasets/rojour/boston-results.  These are lists of the finishers of the Boston Marathon of 2015, 2016 and 2017 respectively, and contain the name, age, gender, country, city and state (where available), times at 9 different stages of the race, expected time, finish time and pace, overall place, gender place and division place."
      ]
    },
    {
      "cell_type": "markdown",
      "metadata": {
        "id": "agz3C86iXDKI"
      },
      "source": [
        "### Load the datasets, aggregate the datasets"
      ]
    },
    {
      "cell_type": "markdown",
      "source": [
        "We first import the CSV files from Google Drive. To do this, we will first have to mount our Drive:"
      ],
      "metadata": {
        "id": "cOY3WPLQeOm4"
      }
    },
    {
      "cell_type": "code",
      "source": [
        "from google.colab import drive\n",
        "drive.mount('/content/drive/')"
      ],
      "metadata": {
        "colab": {
          "base_uri": "https://localhost:8080/"
        },
        "id": "hRU5RtjSamMz",
        "outputId": "3f09def8-87d4-4a48-e9ef-03e9891538db"
      },
      "execution_count": null,
      "outputs": [
        {
          "output_type": "stream",
          "name": "stdout",
          "text": [
            "Mounted at /content/drive/\n"
          ]
        }
      ]
    },
    {
      "cell_type": "markdown",
      "source": [
        "We may want to check the list of files in the current Google Drive folder:"
      ],
      "metadata": {
        "id": "YgE08noPfF_l"
      }
    },
    {
      "cell_type": "code",
      "source": [
        "import os\n",
        "os.listdir('/content/drive')"
      ],
      "metadata": {
        "colab": {
          "base_uri": "https://localhost:8080/"
        },
        "id": "Mqg-sL0hfiNC",
        "outputId": "0a87fa04-9ec6-4898-cf3a-3c464fab6e6d"
      },
      "execution_count": null,
      "outputs": [
        {
          "output_type": "execute_result",
          "data": {
            "text/plain": [
              "['.file-revisions-by-id',\n",
              " 'Shareddrives',\n",
              " '.shortcut-targets-by-id',\n",
              " 'MyDrive',\n",
              " '.Trash-0']"
            ]
          },
          "metadata": {},
          "execution_count": 4
        }
      ]
    },
    {
      "cell_type": "code",
      "execution_count": null,
      "metadata": {
        "id": "ukmawAVpXDKJ"
      },
      "outputs": [],
      "source": [
        "import pandas as pd\n",
        "import numpy as np\n",
        "\n",
        "\n",
        "data_2015 = pd.read_csv(\"/content/drive/MyDrive/marathon_results_2015.csv\")\n",
        "data_2016 = pd.read_csv(\"/content/drive/MyDrive/marathon_results_2016.csv\")\n",
        "data_2017 = pd.read_csv(\"/content/drive/MyDrive/marathon_results_2017.csv\")\n",
        "\n",
        "# Add a new column 'Year' with the corresponding year for each dataframe\n",
        "data_2015['Year'] = 2015\n",
        "data_2016['Year'] = 2016\n",
        "data_2017['Year'] = 2017\n",
        "\n",
        "# Concatenate the three dataframes into a single dataframe 'df'\n",
        "df = pd.concat([data_2015, data_2016, data_2017], ignore_index=True)\n"
      ]
    },
    {
      "cell_type": "markdown",
      "metadata": {
        "id": "D7FgJyuQXDKK"
      },
      "source": [
        "### Inspect the dataset\n",
        "\n",
        "First, let us inspect some entries from the dataframe to get a rough impression. We can start with the first entries:"
      ]
    },
    {
      "cell_type": "code",
      "execution_count": null,
      "metadata": {
        "colab": {
          "base_uri": "https://localhost:8080/",
          "height": 621
        },
        "id": "DpOXWvqvXDKL",
        "outputId": "f9d95856-9bcf-4d5a-9943-67eb81a6b8b2"
      },
      "outputs": [
        {
          "output_type": "execute_result",
          "data": {
            "text/plain": [
              "   Unnamed: 0 Bib                   Name  Age M/F         City State Country  \\\n",
              "0         0.0   3         Desisa, Lelisa   25   M         Ambo   NaN     ETH   \n",
              "1         1.0   4  Tsegay, Yemane Adhane   30   M  Addis Ababa   NaN     ETH   \n",
              "2         2.0   8         Chebet, Wilson   29   M     Marakwet   NaN     KEN   \n",
              "3         3.0  11       Kipyego, Bernard   28   M      Eldoret   NaN     KEN   \n",
              "4         4.0  10          Korir, Wesley   32   M       Kitale   NaN     KEN   \n",
              "5         5.0   9   Chepkwony, Frankline   30   M     Koibatek   NaN     KEN   \n",
              "6         6.0  14     Ritzenhein, Dathan   32   M     Rockford    MI     USA   \n",
              "7         7.0   1        Keflezighi, Meb   39   M    San Diego    CA     USA   \n",
              "8         8.0   5           Tola, Tadese   27   M  Addis Ababa   NaN     ETH   \n",
              "9         9.0  16        Shafar, Vitaliy   33   M        Lutsk   NaN     UKR   \n",
              "\n",
              "  Citizen Unnamed: 9  ...      35K      40K     Pace Proj Time Official Time  \\\n",
              "0     NaN        NaN  ...  1:47:59  2:02:39  0:04:56         -       2:09:17   \n",
              "1     NaN        NaN  ...  1:47:59  2:02:42  0:04:58         -       2:09:48   \n",
              "2     NaN        NaN  ...  1:47:59  2:03:01  0:04:59         -       2:10:22   \n",
              "3     NaN        NaN  ...  1:48:03  2:03:47  0:05:00         -       2:10:47   \n",
              "4     NaN        NaN  ...  1:47:59  2:03:27  0:05:00         -       2:10:49   \n",
              "5     NaN        NaN  ...  1:47:59  2:03:18  0:05:00         -       2:10:52   \n",
              "6     NaN        NaN  ...  1:48:06  2:04:05  0:05:01         -       2:11:20   \n",
              "7     NaN        NaN  ...  1:47:59  2:04:58  0:05:04         -       2:12:42   \n",
              "8     NaN        NaN  ...  1:48:00  2:04:39  0:05:06         -       2:13:35   \n",
              "9     NaN        NaN  ...  1:49:43  2:06:16  0:05:07         -       2:13:52   \n",
              "\n",
              "  Overall Gender Division  Year Unnamed: 8  \n",
              "0       1      1        1  2015        NaN  \n",
              "1       2      2        2  2015        NaN  \n",
              "2       3      3        3  2015        NaN  \n",
              "3       4      4        4  2015        NaN  \n",
              "4       5      5        5  2015        NaN  \n",
              "5       6      6        6  2015        NaN  \n",
              "6       7      7        7  2015        NaN  \n",
              "7       8      8        8  2015        NaN  \n",
              "8       9      9        9  2015        NaN  \n",
              "9      10     10       10  2015        NaN  \n",
              "\n",
              "[10 rows x 27 columns]"
            ],
            "text/html": [
              "\n",
              "  <div id=\"df-b1036143-a2cd-408a-bffd-eefb709108a1\" class=\"colab-df-container\">\n",
              "    <div>\n",
              "<style scoped>\n",
              "    .dataframe tbody tr th:only-of-type {\n",
              "        vertical-align: middle;\n",
              "    }\n",
              "\n",
              "    .dataframe tbody tr th {\n",
              "        vertical-align: top;\n",
              "    }\n",
              "\n",
              "    .dataframe thead th {\n",
              "        text-align: right;\n",
              "    }\n",
              "</style>\n",
              "<table border=\"1\" class=\"dataframe\">\n",
              "  <thead>\n",
              "    <tr style=\"text-align: right;\">\n",
              "      <th></th>\n",
              "      <th>Unnamed: 0</th>\n",
              "      <th>Bib</th>\n",
              "      <th>Name</th>\n",
              "      <th>Age</th>\n",
              "      <th>M/F</th>\n",
              "      <th>City</th>\n",
              "      <th>State</th>\n",
              "      <th>Country</th>\n",
              "      <th>Citizen</th>\n",
              "      <th>Unnamed: 9</th>\n",
              "      <th>...</th>\n",
              "      <th>35K</th>\n",
              "      <th>40K</th>\n",
              "      <th>Pace</th>\n",
              "      <th>Proj Time</th>\n",
              "      <th>Official Time</th>\n",
              "      <th>Overall</th>\n",
              "      <th>Gender</th>\n",
              "      <th>Division</th>\n",
              "      <th>Year</th>\n",
              "      <th>Unnamed: 8</th>\n",
              "    </tr>\n",
              "  </thead>\n",
              "  <tbody>\n",
              "    <tr>\n",
              "      <th>0</th>\n",
              "      <td>0.0</td>\n",
              "      <td>3</td>\n",
              "      <td>Desisa, Lelisa</td>\n",
              "      <td>25</td>\n",
              "      <td>M</td>\n",
              "      <td>Ambo</td>\n",
              "      <td>NaN</td>\n",
              "      <td>ETH</td>\n",
              "      <td>NaN</td>\n",
              "      <td>NaN</td>\n",
              "      <td>...</td>\n",
              "      <td>1:47:59</td>\n",
              "      <td>2:02:39</td>\n",
              "      <td>0:04:56</td>\n",
              "      <td>-</td>\n",
              "      <td>2:09:17</td>\n",
              "      <td>1</td>\n",
              "      <td>1</td>\n",
              "      <td>1</td>\n",
              "      <td>2015</td>\n",
              "      <td>NaN</td>\n",
              "    </tr>\n",
              "    <tr>\n",
              "      <th>1</th>\n",
              "      <td>1.0</td>\n",
              "      <td>4</td>\n",
              "      <td>Tsegay, Yemane Adhane</td>\n",
              "      <td>30</td>\n",
              "      <td>M</td>\n",
              "      <td>Addis Ababa</td>\n",
              "      <td>NaN</td>\n",
              "      <td>ETH</td>\n",
              "      <td>NaN</td>\n",
              "      <td>NaN</td>\n",
              "      <td>...</td>\n",
              "      <td>1:47:59</td>\n",
              "      <td>2:02:42</td>\n",
              "      <td>0:04:58</td>\n",
              "      <td>-</td>\n",
              "      <td>2:09:48</td>\n",
              "      <td>2</td>\n",
              "      <td>2</td>\n",
              "      <td>2</td>\n",
              "      <td>2015</td>\n",
              "      <td>NaN</td>\n",
              "    </tr>\n",
              "    <tr>\n",
              "      <th>2</th>\n",
              "      <td>2.0</td>\n",
              "      <td>8</td>\n",
              "      <td>Chebet, Wilson</td>\n",
              "      <td>29</td>\n",
              "      <td>M</td>\n",
              "      <td>Marakwet</td>\n",
              "      <td>NaN</td>\n",
              "      <td>KEN</td>\n",
              "      <td>NaN</td>\n",
              "      <td>NaN</td>\n",
              "      <td>...</td>\n",
              "      <td>1:47:59</td>\n",
              "      <td>2:03:01</td>\n",
              "      <td>0:04:59</td>\n",
              "      <td>-</td>\n",
              "      <td>2:10:22</td>\n",
              "      <td>3</td>\n",
              "      <td>3</td>\n",
              "      <td>3</td>\n",
              "      <td>2015</td>\n",
              "      <td>NaN</td>\n",
              "    </tr>\n",
              "    <tr>\n",
              "      <th>3</th>\n",
              "      <td>3.0</td>\n",
              "      <td>11</td>\n",
              "      <td>Kipyego, Bernard</td>\n",
              "      <td>28</td>\n",
              "      <td>M</td>\n",
              "      <td>Eldoret</td>\n",
              "      <td>NaN</td>\n",
              "      <td>KEN</td>\n",
              "      <td>NaN</td>\n",
              "      <td>NaN</td>\n",
              "      <td>...</td>\n",
              "      <td>1:48:03</td>\n",
              "      <td>2:03:47</td>\n",
              "      <td>0:05:00</td>\n",
              "      <td>-</td>\n",
              "      <td>2:10:47</td>\n",
              "      <td>4</td>\n",
              "      <td>4</td>\n",
              "      <td>4</td>\n",
              "      <td>2015</td>\n",
              "      <td>NaN</td>\n",
              "    </tr>\n",
              "    <tr>\n",
              "      <th>4</th>\n",
              "      <td>4.0</td>\n",
              "      <td>10</td>\n",
              "      <td>Korir, Wesley</td>\n",
              "      <td>32</td>\n",
              "      <td>M</td>\n",
              "      <td>Kitale</td>\n",
              "      <td>NaN</td>\n",
              "      <td>KEN</td>\n",
              "      <td>NaN</td>\n",
              "      <td>NaN</td>\n",
              "      <td>...</td>\n",
              "      <td>1:47:59</td>\n",
              "      <td>2:03:27</td>\n",
              "      <td>0:05:00</td>\n",
              "      <td>-</td>\n",
              "      <td>2:10:49</td>\n",
              "      <td>5</td>\n",
              "      <td>5</td>\n",
              "      <td>5</td>\n",
              "      <td>2015</td>\n",
              "      <td>NaN</td>\n",
              "    </tr>\n",
              "    <tr>\n",
              "      <th>5</th>\n",
              "      <td>5.0</td>\n",
              "      <td>9</td>\n",
              "      <td>Chepkwony, Frankline</td>\n",
              "      <td>30</td>\n",
              "      <td>M</td>\n",
              "      <td>Koibatek</td>\n",
              "      <td>NaN</td>\n",
              "      <td>KEN</td>\n",
              "      <td>NaN</td>\n",
              "      <td>NaN</td>\n",
              "      <td>...</td>\n",
              "      <td>1:47:59</td>\n",
              "      <td>2:03:18</td>\n",
              "      <td>0:05:00</td>\n",
              "      <td>-</td>\n",
              "      <td>2:10:52</td>\n",
              "      <td>6</td>\n",
              "      <td>6</td>\n",
              "      <td>6</td>\n",
              "      <td>2015</td>\n",
              "      <td>NaN</td>\n",
              "    </tr>\n",
              "    <tr>\n",
              "      <th>6</th>\n",
              "      <td>6.0</td>\n",
              "      <td>14</td>\n",
              "      <td>Ritzenhein, Dathan</td>\n",
              "      <td>32</td>\n",
              "      <td>M</td>\n",
              "      <td>Rockford</td>\n",
              "      <td>MI</td>\n",
              "      <td>USA</td>\n",
              "      <td>NaN</td>\n",
              "      <td>NaN</td>\n",
              "      <td>...</td>\n",
              "      <td>1:48:06</td>\n",
              "      <td>2:04:05</td>\n",
              "      <td>0:05:01</td>\n",
              "      <td>-</td>\n",
              "      <td>2:11:20</td>\n",
              "      <td>7</td>\n",
              "      <td>7</td>\n",
              "      <td>7</td>\n",
              "      <td>2015</td>\n",
              "      <td>NaN</td>\n",
              "    </tr>\n",
              "    <tr>\n",
              "      <th>7</th>\n",
              "      <td>7.0</td>\n",
              "      <td>1</td>\n",
              "      <td>Keflezighi, Meb</td>\n",
              "      <td>39</td>\n",
              "      <td>M</td>\n",
              "      <td>San Diego</td>\n",
              "      <td>CA</td>\n",
              "      <td>USA</td>\n",
              "      <td>NaN</td>\n",
              "      <td>NaN</td>\n",
              "      <td>...</td>\n",
              "      <td>1:47:59</td>\n",
              "      <td>2:04:58</td>\n",
              "      <td>0:05:04</td>\n",
              "      <td>-</td>\n",
              "      <td>2:12:42</td>\n",
              "      <td>8</td>\n",
              "      <td>8</td>\n",
              "      <td>8</td>\n",
              "      <td>2015</td>\n",
              "      <td>NaN</td>\n",
              "    </tr>\n",
              "    <tr>\n",
              "      <th>8</th>\n",
              "      <td>8.0</td>\n",
              "      <td>5</td>\n",
              "      <td>Tola, Tadese</td>\n",
              "      <td>27</td>\n",
              "      <td>M</td>\n",
              "      <td>Addis Ababa</td>\n",
              "      <td>NaN</td>\n",
              "      <td>ETH</td>\n",
              "      <td>NaN</td>\n",
              "      <td>NaN</td>\n",
              "      <td>...</td>\n",
              "      <td>1:48:00</td>\n",
              "      <td>2:04:39</td>\n",
              "      <td>0:05:06</td>\n",
              "      <td>-</td>\n",
              "      <td>2:13:35</td>\n",
              "      <td>9</td>\n",
              "      <td>9</td>\n",
              "      <td>9</td>\n",
              "      <td>2015</td>\n",
              "      <td>NaN</td>\n",
              "    </tr>\n",
              "    <tr>\n",
              "      <th>9</th>\n",
              "      <td>9.0</td>\n",
              "      <td>16</td>\n",
              "      <td>Shafar, Vitaliy</td>\n",
              "      <td>33</td>\n",
              "      <td>M</td>\n",
              "      <td>Lutsk</td>\n",
              "      <td>NaN</td>\n",
              "      <td>UKR</td>\n",
              "      <td>NaN</td>\n",
              "      <td>NaN</td>\n",
              "      <td>...</td>\n",
              "      <td>1:49:43</td>\n",
              "      <td>2:06:16</td>\n",
              "      <td>0:05:07</td>\n",
              "      <td>-</td>\n",
              "      <td>2:13:52</td>\n",
              "      <td>10</td>\n",
              "      <td>10</td>\n",
              "      <td>10</td>\n",
              "      <td>2015</td>\n",
              "      <td>NaN</td>\n",
              "    </tr>\n",
              "  </tbody>\n",
              "</table>\n",
              "<p>10 rows × 27 columns</p>\n",
              "</div>\n",
              "    <div class=\"colab-df-buttons\">\n",
              "\n",
              "  <div class=\"colab-df-container\">\n",
              "    <button class=\"colab-df-convert\" onclick=\"convertToInteractive('df-b1036143-a2cd-408a-bffd-eefb709108a1')\"\n",
              "            title=\"Convert this dataframe to an interactive table.\"\n",
              "            style=\"display:none;\">\n",
              "\n",
              "  <svg xmlns=\"http://www.w3.org/2000/svg\" height=\"24px\" viewBox=\"0 -960 960 960\">\n",
              "    <path d=\"M120-120v-720h720v720H120Zm60-500h600v-160H180v160Zm220 220h160v-160H400v160Zm0 220h160v-160H400v160ZM180-400h160v-160H180v160Zm440 0h160v-160H620v160ZM180-180h160v-160H180v160Zm440 0h160v-160H620v160Z\"/>\n",
              "  </svg>\n",
              "    </button>\n",
              "\n",
              "  <style>\n",
              "    .colab-df-container {\n",
              "      display:flex;\n",
              "      gap: 12px;\n",
              "    }\n",
              "\n",
              "    .colab-df-convert {\n",
              "      background-color: #E8F0FE;\n",
              "      border: none;\n",
              "      border-radius: 50%;\n",
              "      cursor: pointer;\n",
              "      display: none;\n",
              "      fill: #1967D2;\n",
              "      height: 32px;\n",
              "      padding: 0 0 0 0;\n",
              "      width: 32px;\n",
              "    }\n",
              "\n",
              "    .colab-df-convert:hover {\n",
              "      background-color: #E2EBFA;\n",
              "      box-shadow: 0px 1px 2px rgba(60, 64, 67, 0.3), 0px 1px 3px 1px rgba(60, 64, 67, 0.15);\n",
              "      fill: #174EA6;\n",
              "    }\n",
              "\n",
              "    .colab-df-buttons div {\n",
              "      margin-bottom: 4px;\n",
              "    }\n",
              "\n",
              "    [theme=dark] .colab-df-convert {\n",
              "      background-color: #3B4455;\n",
              "      fill: #D2E3FC;\n",
              "    }\n",
              "\n",
              "    [theme=dark] .colab-df-convert:hover {\n",
              "      background-color: #434B5C;\n",
              "      box-shadow: 0px 1px 3px 1px rgba(0, 0, 0, 0.15);\n",
              "      filter: drop-shadow(0px 1px 2px rgba(0, 0, 0, 0.3));\n",
              "      fill: #FFFFFF;\n",
              "    }\n",
              "  </style>\n",
              "\n",
              "    <script>\n",
              "      const buttonEl =\n",
              "        document.querySelector('#df-b1036143-a2cd-408a-bffd-eefb709108a1 button.colab-df-convert');\n",
              "      buttonEl.style.display =\n",
              "        google.colab.kernel.accessAllowed ? 'block' : 'none';\n",
              "\n",
              "      async function convertToInteractive(key) {\n",
              "        const element = document.querySelector('#df-b1036143-a2cd-408a-bffd-eefb709108a1');\n",
              "        const dataTable =\n",
              "          await google.colab.kernel.invokeFunction('convertToInteractive',\n",
              "                                                    [key], {});\n",
              "        if (!dataTable) return;\n",
              "\n",
              "        const docLinkHtml = 'Like what you see? Visit the ' +\n",
              "          '<a target=\"_blank\" href=https://colab.research.google.com/notebooks/data_table.ipynb>data table notebook</a>'\n",
              "          + ' to learn more about interactive tables.';\n",
              "        element.innerHTML = '';\n",
              "        dataTable['output_type'] = 'display_data';\n",
              "        await google.colab.output.renderOutput(dataTable, element);\n",
              "        const docLink = document.createElement('div');\n",
              "        docLink.innerHTML = docLinkHtml;\n",
              "        element.appendChild(docLink);\n",
              "      }\n",
              "    </script>\n",
              "  </div>\n",
              "\n",
              "\n",
              "<div id=\"df-ebfd3ddf-b68b-45e6-bd43-63aebba85b7c\">\n",
              "  <button class=\"colab-df-quickchart\" onclick=\"quickchart('df-ebfd3ddf-b68b-45e6-bd43-63aebba85b7c')\"\n",
              "            title=\"Suggest charts\"\n",
              "            style=\"display:none;\">\n",
              "\n",
              "<svg xmlns=\"http://www.w3.org/2000/svg\" height=\"24px\"viewBox=\"0 0 24 24\"\n",
              "     width=\"24px\">\n",
              "    <g>\n",
              "        <path d=\"M19 3H5c-1.1 0-2 .9-2 2v14c0 1.1.9 2 2 2h14c1.1 0 2-.9 2-2V5c0-1.1-.9-2-2-2zM9 17H7v-7h2v7zm4 0h-2V7h2v10zm4 0h-2v-4h2v4z\"/>\n",
              "    </g>\n",
              "</svg>\n",
              "  </button>\n",
              "\n",
              "<style>\n",
              "  .colab-df-quickchart {\n",
              "      --bg-color: #E8F0FE;\n",
              "      --fill-color: #1967D2;\n",
              "      --hover-bg-color: #E2EBFA;\n",
              "      --hover-fill-color: #174EA6;\n",
              "      --disabled-fill-color: #AAA;\n",
              "      --disabled-bg-color: #DDD;\n",
              "  }\n",
              "\n",
              "  [theme=dark] .colab-df-quickchart {\n",
              "      --bg-color: #3B4455;\n",
              "      --fill-color: #D2E3FC;\n",
              "      --hover-bg-color: #434B5C;\n",
              "      --hover-fill-color: #FFFFFF;\n",
              "      --disabled-bg-color: #3B4455;\n",
              "      --disabled-fill-color: #666;\n",
              "  }\n",
              "\n",
              "  .colab-df-quickchart {\n",
              "    background-color: var(--bg-color);\n",
              "    border: none;\n",
              "    border-radius: 50%;\n",
              "    cursor: pointer;\n",
              "    display: none;\n",
              "    fill: var(--fill-color);\n",
              "    height: 32px;\n",
              "    padding: 0;\n",
              "    width: 32px;\n",
              "  }\n",
              "\n",
              "  .colab-df-quickchart:hover {\n",
              "    background-color: var(--hover-bg-color);\n",
              "    box-shadow: 0 1px 2px rgba(60, 64, 67, 0.3), 0 1px 3px 1px rgba(60, 64, 67, 0.15);\n",
              "    fill: var(--button-hover-fill-color);\n",
              "  }\n",
              "\n",
              "  .colab-df-quickchart-complete:disabled,\n",
              "  .colab-df-quickchart-complete:disabled:hover {\n",
              "    background-color: var(--disabled-bg-color);\n",
              "    fill: var(--disabled-fill-color);\n",
              "    box-shadow: none;\n",
              "  }\n",
              "\n",
              "  .colab-df-spinner {\n",
              "    border: 2px solid var(--fill-color);\n",
              "    border-color: transparent;\n",
              "    border-bottom-color: var(--fill-color);\n",
              "    animation:\n",
              "      spin 1s steps(1) infinite;\n",
              "  }\n",
              "\n",
              "  @keyframes spin {\n",
              "    0% {\n",
              "      border-color: transparent;\n",
              "      border-bottom-color: var(--fill-color);\n",
              "      border-left-color: var(--fill-color);\n",
              "    }\n",
              "    20% {\n",
              "      border-color: transparent;\n",
              "      border-left-color: var(--fill-color);\n",
              "      border-top-color: var(--fill-color);\n",
              "    }\n",
              "    30% {\n",
              "      border-color: transparent;\n",
              "      border-left-color: var(--fill-color);\n",
              "      border-top-color: var(--fill-color);\n",
              "      border-right-color: var(--fill-color);\n",
              "    }\n",
              "    40% {\n",
              "      border-color: transparent;\n",
              "      border-right-color: var(--fill-color);\n",
              "      border-top-color: var(--fill-color);\n",
              "    }\n",
              "    60% {\n",
              "      border-color: transparent;\n",
              "      border-right-color: var(--fill-color);\n",
              "    }\n",
              "    80% {\n",
              "      border-color: transparent;\n",
              "      border-right-color: var(--fill-color);\n",
              "      border-bottom-color: var(--fill-color);\n",
              "    }\n",
              "    90% {\n",
              "      border-color: transparent;\n",
              "      border-bottom-color: var(--fill-color);\n",
              "    }\n",
              "  }\n",
              "</style>\n",
              "\n",
              "  <script>\n",
              "    async function quickchart(key) {\n",
              "      const quickchartButtonEl =\n",
              "        document.querySelector('#' + key + ' button');\n",
              "      quickchartButtonEl.disabled = true;  // To prevent multiple clicks.\n",
              "      quickchartButtonEl.classList.add('colab-df-spinner');\n",
              "      try {\n",
              "        const charts = await google.colab.kernel.invokeFunction(\n",
              "            'suggestCharts', [key], {});\n",
              "      } catch (error) {\n",
              "        console.error('Error during call to suggestCharts:', error);\n",
              "      }\n",
              "      quickchartButtonEl.classList.remove('colab-df-spinner');\n",
              "      quickchartButtonEl.classList.add('colab-df-quickchart-complete');\n",
              "    }\n",
              "    (() => {\n",
              "      let quickchartButtonEl =\n",
              "        document.querySelector('#df-ebfd3ddf-b68b-45e6-bd43-63aebba85b7c button');\n",
              "      quickchartButtonEl.style.display =\n",
              "        google.colab.kernel.accessAllowed ? 'block' : 'none';\n",
              "    })();\n",
              "  </script>\n",
              "</div>\n",
              "\n",
              "    </div>\n",
              "  </div>\n"
            ],
            "application/vnd.google.colaboratory.intrinsic+json": {
              "type": "dataframe",
              "variable_name": "df"
            }
          },
          "metadata": {},
          "execution_count": 6
        }
      ],
      "source": [
        "df.head(10)\n"
      ]
    },
    {
      "cell_type": "markdown",
      "metadata": {
        "id": "6KhmF_G1XDKM"
      },
      "source": [
        "Or the last entries:"
      ]
    },
    {
      "cell_type": "code",
      "execution_count": null,
      "metadata": {
        "id": "nX4g_5D7XDKN",
        "outputId": "7a509ae7-99d8-440a-c021-7df315624c08",
        "colab": {
          "base_uri": "https://localhost:8080/",
          "height": 360
        }
      },
      "outputs": [
        {
          "output_type": "execute_result",
          "data": {
            "text/plain": [
              "       Unnamed: 0    Bib                      Name  Age M/F          City  \\\n",
              "79633     26405.0  25166  Steinbach, Paula Eyvonne   61   F       Ontario   \n",
              "79634     26406.0  25178        Avelino, Andrew R.   25   M  Fayetteville   \n",
              "79635     26407.0  27086           Hantel, Johanna   57   F       Malvern   \n",
              "79636     26408.0  25268              Reilly, Bill   64   M      New York   \n",
              "79637     26409.0  25266             Rigsby, Scott   48   M    Alpharetta   \n",
              "\n",
              "      State Country Citizen Unnamed: 9  ...      35K      40K     Pace  \\\n",
              "79633    CA     USA     NaN         MI  ...  5:55:18  6:46:57  0:16:24   \n",
              "79634    NC     USA     NaN         MI  ...  5:53:48  6:54:21  0:16:40   \n",
              "79635    PA     USA     NaN        NaN  ...  6:00:33  6:54:38  0:16:47   \n",
              "79636    NY     USA     NaN         MI  ...  6:06:07  6:56:08  0:16:49   \n",
              "79637    GA     USA     NaN         MI  ...  6:39:07  7:41:23  0:18:15   \n",
              "\n",
              "      Proj Time Official Time Overall Gender Division  Year Unnamed: 8  \n",
              "79633         -       7:09:39   26407  11972      344  2017        NaN  \n",
              "79634         -       7:16:59   26408  14436     4774  2017        NaN  \n",
              "79635         -       7:19:37   26409  11973      698  2017        NaN  \n",
              "79636         -       7:20:44   26410  14437     1043  2017        NaN  \n",
              "79637         -       7:58:14   26411  14438     2553  2017        NaN  \n",
              "\n",
              "[5 rows x 27 columns]"
            ],
            "text/html": [
              "\n",
              "  <div id=\"df-b5710330-eaea-4468-b6ea-e56713a059b4\" class=\"colab-df-container\">\n",
              "    <div>\n",
              "<style scoped>\n",
              "    .dataframe tbody tr th:only-of-type {\n",
              "        vertical-align: middle;\n",
              "    }\n",
              "\n",
              "    .dataframe tbody tr th {\n",
              "        vertical-align: top;\n",
              "    }\n",
              "\n",
              "    .dataframe thead th {\n",
              "        text-align: right;\n",
              "    }\n",
              "</style>\n",
              "<table border=\"1\" class=\"dataframe\">\n",
              "  <thead>\n",
              "    <tr style=\"text-align: right;\">\n",
              "      <th></th>\n",
              "      <th>Unnamed: 0</th>\n",
              "      <th>Bib</th>\n",
              "      <th>Name</th>\n",
              "      <th>Age</th>\n",
              "      <th>M/F</th>\n",
              "      <th>City</th>\n",
              "      <th>State</th>\n",
              "      <th>Country</th>\n",
              "      <th>Citizen</th>\n",
              "      <th>Unnamed: 9</th>\n",
              "      <th>...</th>\n",
              "      <th>35K</th>\n",
              "      <th>40K</th>\n",
              "      <th>Pace</th>\n",
              "      <th>Proj Time</th>\n",
              "      <th>Official Time</th>\n",
              "      <th>Overall</th>\n",
              "      <th>Gender</th>\n",
              "      <th>Division</th>\n",
              "      <th>Year</th>\n",
              "      <th>Unnamed: 8</th>\n",
              "    </tr>\n",
              "  </thead>\n",
              "  <tbody>\n",
              "    <tr>\n",
              "      <th>79633</th>\n",
              "      <td>26405.0</td>\n",
              "      <td>25166</td>\n",
              "      <td>Steinbach, Paula Eyvonne</td>\n",
              "      <td>61</td>\n",
              "      <td>F</td>\n",
              "      <td>Ontario</td>\n",
              "      <td>CA</td>\n",
              "      <td>USA</td>\n",
              "      <td>NaN</td>\n",
              "      <td>MI</td>\n",
              "      <td>...</td>\n",
              "      <td>5:55:18</td>\n",
              "      <td>6:46:57</td>\n",
              "      <td>0:16:24</td>\n",
              "      <td>-</td>\n",
              "      <td>7:09:39</td>\n",
              "      <td>26407</td>\n",
              "      <td>11972</td>\n",
              "      <td>344</td>\n",
              "      <td>2017</td>\n",
              "      <td>NaN</td>\n",
              "    </tr>\n",
              "    <tr>\n",
              "      <th>79634</th>\n",
              "      <td>26406.0</td>\n",
              "      <td>25178</td>\n",
              "      <td>Avelino, Andrew R.</td>\n",
              "      <td>25</td>\n",
              "      <td>M</td>\n",
              "      <td>Fayetteville</td>\n",
              "      <td>NC</td>\n",
              "      <td>USA</td>\n",
              "      <td>NaN</td>\n",
              "      <td>MI</td>\n",
              "      <td>...</td>\n",
              "      <td>5:53:48</td>\n",
              "      <td>6:54:21</td>\n",
              "      <td>0:16:40</td>\n",
              "      <td>-</td>\n",
              "      <td>7:16:59</td>\n",
              "      <td>26408</td>\n",
              "      <td>14436</td>\n",
              "      <td>4774</td>\n",
              "      <td>2017</td>\n",
              "      <td>NaN</td>\n",
              "    </tr>\n",
              "    <tr>\n",
              "      <th>79635</th>\n",
              "      <td>26407.0</td>\n",
              "      <td>27086</td>\n",
              "      <td>Hantel, Johanna</td>\n",
              "      <td>57</td>\n",
              "      <td>F</td>\n",
              "      <td>Malvern</td>\n",
              "      <td>PA</td>\n",
              "      <td>USA</td>\n",
              "      <td>NaN</td>\n",
              "      <td>NaN</td>\n",
              "      <td>...</td>\n",
              "      <td>6:00:33</td>\n",
              "      <td>6:54:38</td>\n",
              "      <td>0:16:47</td>\n",
              "      <td>-</td>\n",
              "      <td>7:19:37</td>\n",
              "      <td>26409</td>\n",
              "      <td>11973</td>\n",
              "      <td>698</td>\n",
              "      <td>2017</td>\n",
              "      <td>NaN</td>\n",
              "    </tr>\n",
              "    <tr>\n",
              "      <th>79636</th>\n",
              "      <td>26408.0</td>\n",
              "      <td>25268</td>\n",
              "      <td>Reilly, Bill</td>\n",
              "      <td>64</td>\n",
              "      <td>M</td>\n",
              "      <td>New York</td>\n",
              "      <td>NY</td>\n",
              "      <td>USA</td>\n",
              "      <td>NaN</td>\n",
              "      <td>MI</td>\n",
              "      <td>...</td>\n",
              "      <td>6:06:07</td>\n",
              "      <td>6:56:08</td>\n",
              "      <td>0:16:49</td>\n",
              "      <td>-</td>\n",
              "      <td>7:20:44</td>\n",
              "      <td>26410</td>\n",
              "      <td>14437</td>\n",
              "      <td>1043</td>\n",
              "      <td>2017</td>\n",
              "      <td>NaN</td>\n",
              "    </tr>\n",
              "    <tr>\n",
              "      <th>79637</th>\n",
              "      <td>26409.0</td>\n",
              "      <td>25266</td>\n",
              "      <td>Rigsby, Scott</td>\n",
              "      <td>48</td>\n",
              "      <td>M</td>\n",
              "      <td>Alpharetta</td>\n",
              "      <td>GA</td>\n",
              "      <td>USA</td>\n",
              "      <td>NaN</td>\n",
              "      <td>MI</td>\n",
              "      <td>...</td>\n",
              "      <td>6:39:07</td>\n",
              "      <td>7:41:23</td>\n",
              "      <td>0:18:15</td>\n",
              "      <td>-</td>\n",
              "      <td>7:58:14</td>\n",
              "      <td>26411</td>\n",
              "      <td>14438</td>\n",
              "      <td>2553</td>\n",
              "      <td>2017</td>\n",
              "      <td>NaN</td>\n",
              "    </tr>\n",
              "  </tbody>\n",
              "</table>\n",
              "<p>5 rows × 27 columns</p>\n",
              "</div>\n",
              "    <div class=\"colab-df-buttons\">\n",
              "\n",
              "  <div class=\"colab-df-container\">\n",
              "    <button class=\"colab-df-convert\" onclick=\"convertToInteractive('df-b5710330-eaea-4468-b6ea-e56713a059b4')\"\n",
              "            title=\"Convert this dataframe to an interactive table.\"\n",
              "            style=\"display:none;\">\n",
              "\n",
              "  <svg xmlns=\"http://www.w3.org/2000/svg\" height=\"24px\" viewBox=\"0 -960 960 960\">\n",
              "    <path d=\"M120-120v-720h720v720H120Zm60-500h600v-160H180v160Zm220 220h160v-160H400v160Zm0 220h160v-160H400v160ZM180-400h160v-160H180v160Zm440 0h160v-160H620v160ZM180-180h160v-160H180v160Zm440 0h160v-160H620v160Z\"/>\n",
              "  </svg>\n",
              "    </button>\n",
              "\n",
              "  <style>\n",
              "    .colab-df-container {\n",
              "      display:flex;\n",
              "      gap: 12px;\n",
              "    }\n",
              "\n",
              "    .colab-df-convert {\n",
              "      background-color: #E8F0FE;\n",
              "      border: none;\n",
              "      border-radius: 50%;\n",
              "      cursor: pointer;\n",
              "      display: none;\n",
              "      fill: #1967D2;\n",
              "      height: 32px;\n",
              "      padding: 0 0 0 0;\n",
              "      width: 32px;\n",
              "    }\n",
              "\n",
              "    .colab-df-convert:hover {\n",
              "      background-color: #E2EBFA;\n",
              "      box-shadow: 0px 1px 2px rgba(60, 64, 67, 0.3), 0px 1px 3px 1px rgba(60, 64, 67, 0.15);\n",
              "      fill: #174EA6;\n",
              "    }\n",
              "\n",
              "    .colab-df-buttons div {\n",
              "      margin-bottom: 4px;\n",
              "    }\n",
              "\n",
              "    [theme=dark] .colab-df-convert {\n",
              "      background-color: #3B4455;\n",
              "      fill: #D2E3FC;\n",
              "    }\n",
              "\n",
              "    [theme=dark] .colab-df-convert:hover {\n",
              "      background-color: #434B5C;\n",
              "      box-shadow: 0px 1px 3px 1px rgba(0, 0, 0, 0.15);\n",
              "      filter: drop-shadow(0px 1px 2px rgba(0, 0, 0, 0.3));\n",
              "      fill: #FFFFFF;\n",
              "    }\n",
              "  </style>\n",
              "\n",
              "    <script>\n",
              "      const buttonEl =\n",
              "        document.querySelector('#df-b5710330-eaea-4468-b6ea-e56713a059b4 button.colab-df-convert');\n",
              "      buttonEl.style.display =\n",
              "        google.colab.kernel.accessAllowed ? 'block' : 'none';\n",
              "\n",
              "      async function convertToInteractive(key) {\n",
              "        const element = document.querySelector('#df-b5710330-eaea-4468-b6ea-e56713a059b4');\n",
              "        const dataTable =\n",
              "          await google.colab.kernel.invokeFunction('convertToInteractive',\n",
              "                                                    [key], {});\n",
              "        if (!dataTable) return;\n",
              "\n",
              "        const docLinkHtml = 'Like what you see? Visit the ' +\n",
              "          '<a target=\"_blank\" href=https://colab.research.google.com/notebooks/data_table.ipynb>data table notebook</a>'\n",
              "          + ' to learn more about interactive tables.';\n",
              "        element.innerHTML = '';\n",
              "        dataTable['output_type'] = 'display_data';\n",
              "        await google.colab.output.renderOutput(dataTable, element);\n",
              "        const docLink = document.createElement('div');\n",
              "        docLink.innerHTML = docLinkHtml;\n",
              "        element.appendChild(docLink);\n",
              "      }\n",
              "    </script>\n",
              "  </div>\n",
              "\n",
              "\n",
              "<div id=\"df-416dddbd-13bd-487a-85a8-dd2ecf45fb46\">\n",
              "  <button class=\"colab-df-quickchart\" onclick=\"quickchart('df-416dddbd-13bd-487a-85a8-dd2ecf45fb46')\"\n",
              "            title=\"Suggest charts\"\n",
              "            style=\"display:none;\">\n",
              "\n",
              "<svg xmlns=\"http://www.w3.org/2000/svg\" height=\"24px\"viewBox=\"0 0 24 24\"\n",
              "     width=\"24px\">\n",
              "    <g>\n",
              "        <path d=\"M19 3H5c-1.1 0-2 .9-2 2v14c0 1.1.9 2 2 2h14c1.1 0 2-.9 2-2V5c0-1.1-.9-2-2-2zM9 17H7v-7h2v7zm4 0h-2V7h2v10zm4 0h-2v-4h2v4z\"/>\n",
              "    </g>\n",
              "</svg>\n",
              "  </button>\n",
              "\n",
              "<style>\n",
              "  .colab-df-quickchart {\n",
              "      --bg-color: #E8F0FE;\n",
              "      --fill-color: #1967D2;\n",
              "      --hover-bg-color: #E2EBFA;\n",
              "      --hover-fill-color: #174EA6;\n",
              "      --disabled-fill-color: #AAA;\n",
              "      --disabled-bg-color: #DDD;\n",
              "  }\n",
              "\n",
              "  [theme=dark] .colab-df-quickchart {\n",
              "      --bg-color: #3B4455;\n",
              "      --fill-color: #D2E3FC;\n",
              "      --hover-bg-color: #434B5C;\n",
              "      --hover-fill-color: #FFFFFF;\n",
              "      --disabled-bg-color: #3B4455;\n",
              "      --disabled-fill-color: #666;\n",
              "  }\n",
              "\n",
              "  .colab-df-quickchart {\n",
              "    background-color: var(--bg-color);\n",
              "    border: none;\n",
              "    border-radius: 50%;\n",
              "    cursor: pointer;\n",
              "    display: none;\n",
              "    fill: var(--fill-color);\n",
              "    height: 32px;\n",
              "    padding: 0;\n",
              "    width: 32px;\n",
              "  }\n",
              "\n",
              "  .colab-df-quickchart:hover {\n",
              "    background-color: var(--hover-bg-color);\n",
              "    box-shadow: 0 1px 2px rgba(60, 64, 67, 0.3), 0 1px 3px 1px rgba(60, 64, 67, 0.15);\n",
              "    fill: var(--button-hover-fill-color);\n",
              "  }\n",
              "\n",
              "  .colab-df-quickchart-complete:disabled,\n",
              "  .colab-df-quickchart-complete:disabled:hover {\n",
              "    background-color: var(--disabled-bg-color);\n",
              "    fill: var(--disabled-fill-color);\n",
              "    box-shadow: none;\n",
              "  }\n",
              "\n",
              "  .colab-df-spinner {\n",
              "    border: 2px solid var(--fill-color);\n",
              "    border-color: transparent;\n",
              "    border-bottom-color: var(--fill-color);\n",
              "    animation:\n",
              "      spin 1s steps(1) infinite;\n",
              "  }\n",
              "\n",
              "  @keyframes spin {\n",
              "    0% {\n",
              "      border-color: transparent;\n",
              "      border-bottom-color: var(--fill-color);\n",
              "      border-left-color: var(--fill-color);\n",
              "    }\n",
              "    20% {\n",
              "      border-color: transparent;\n",
              "      border-left-color: var(--fill-color);\n",
              "      border-top-color: var(--fill-color);\n",
              "    }\n",
              "    30% {\n",
              "      border-color: transparent;\n",
              "      border-left-color: var(--fill-color);\n",
              "      border-top-color: var(--fill-color);\n",
              "      border-right-color: var(--fill-color);\n",
              "    }\n",
              "    40% {\n",
              "      border-color: transparent;\n",
              "      border-right-color: var(--fill-color);\n",
              "      border-top-color: var(--fill-color);\n",
              "    }\n",
              "    60% {\n",
              "      border-color: transparent;\n",
              "      border-right-color: var(--fill-color);\n",
              "    }\n",
              "    80% {\n",
              "      border-color: transparent;\n",
              "      border-right-color: var(--fill-color);\n",
              "      border-bottom-color: var(--fill-color);\n",
              "    }\n",
              "    90% {\n",
              "      border-color: transparent;\n",
              "      border-bottom-color: var(--fill-color);\n",
              "    }\n",
              "  }\n",
              "</style>\n",
              "\n",
              "  <script>\n",
              "    async function quickchart(key) {\n",
              "      const quickchartButtonEl =\n",
              "        document.querySelector('#' + key + ' button');\n",
              "      quickchartButtonEl.disabled = true;  // To prevent multiple clicks.\n",
              "      quickchartButtonEl.classList.add('colab-df-spinner');\n",
              "      try {\n",
              "        const charts = await google.colab.kernel.invokeFunction(\n",
              "            'suggestCharts', [key], {});\n",
              "      } catch (error) {\n",
              "        console.error('Error during call to suggestCharts:', error);\n",
              "      }\n",
              "      quickchartButtonEl.classList.remove('colab-df-spinner');\n",
              "      quickchartButtonEl.classList.add('colab-df-quickchart-complete');\n",
              "    }\n",
              "    (() => {\n",
              "      let quickchartButtonEl =\n",
              "        document.querySelector('#df-416dddbd-13bd-487a-85a8-dd2ecf45fb46 button');\n",
              "      quickchartButtonEl.style.display =\n",
              "        google.colab.kernel.accessAllowed ? 'block' : 'none';\n",
              "    })();\n",
              "  </script>\n",
              "</div>\n",
              "\n",
              "    </div>\n",
              "  </div>\n"
            ],
            "application/vnd.google.colaboratory.intrinsic+json": {
              "type": "dataframe"
            }
          },
          "metadata": {},
          "execution_count": 7
        }
      ],
      "source": [
        "df.tail()"
      ]
    },
    {
      "cell_type": "markdown",
      "metadata": {
        "id": "LoZeMeNuXDKN"
      },
      "source": [
        "Or even some random entries:"
      ]
    },
    {
      "cell_type": "code",
      "execution_count": null,
      "metadata": {
        "id": "ExJ-gTOBXDKO",
        "outputId": "6bd93056-49f0-4a42-d1a8-eb306dba9b85",
        "colab": {
          "base_uri": "https://localhost:8080/",
          "height": 569
        }
      },
      "outputs": [
        {
          "output_type": "execute_result",
          "data": {
            "text/plain": [
              "       Unnamed: 0    Bib                    Name  Age M/F           City  \\\n",
              "13175     13175.0  19329       Gaylor, Tracey L.   36   F    Bowmanville   \n",
              "73929     20701.0  23583          King, Margaret   55   F         Ottawa   \n",
              "7901       7901.0  10802           Yu, Yeong Hye   54   F          Seoul   \n",
              "17793     17793.0  20852  Hendrickson, Christine   40   F     Fort Wayne   \n",
              "48326         NaN  21317             Wiese, Aida   44   F   Collierville   \n",
              "26728         NaN    291         Pliska, Kenneth   50   M         Golden   \n",
              "50428         NaN  12912       Miller, Stephanie   36   F  Lawrenceville   \n",
              "52887         NaN  26049           Goslin, Carol   71   F    Kansas City   \n",
              "40244         NaN  20292        Dunkley, Robin M   38   F       Victoria   \n",
              "37963         NaN  15201       Dewitt, Nicole M.   26   F       Vernonia   \n",
              "\n",
              "      State Country Citizen Unnamed: 9  ...      35K      40K     Pace  \\\n",
              "13175    ON     CAN     NaN        NaN  ...  2:57:16  3:26:11  0:08:22   \n",
              "73929    ON     CAN     NaN        NaN  ...  3:37:09  4:12:09  0:10:13   \n",
              "7901    NaN     KOR     NaN        NaN  ...  2:46:23  3:11:37  0:07:46   \n",
              "17793    IN     USA     NaN        NaN  ...  3:12:11  3:41:55  0:08:59   \n",
              "48326    TN     USA     NaN        NaN  ...  3:38:17  4:12:36  0:10:16   \n",
              "26728    CO     USA     NaN        NaN  ...  2:11:40  2:31:20  0:06:06   \n",
              "50428    GA     USA     NaN        NaN  ...  4:03:54  4:36:59  0:11:07   \n",
              "52887    MO     USA     NaN        NaN  ...  4:49:17  5:31:33  0:13:20   \n",
              "40244    BC     CAN     NaN        NaN  ...  3:08:36  3:36:44  0:08:45   \n",
              "37963    OR     USA     NaN        NaN  ...  3:02:13  3:30:02  0:08:28   \n",
              "\n",
              "      Proj Time Official Time Overall Gender Division  Year Unnamed: 8  \n",
              "13175         -       3:39:17   13176   4121     2982  2015        NaN  \n",
              "73929         -       4:27:46   20703   8831      428  2017        NaN  \n",
              "7901          -       3:23:12    7902   1405       28  2015        NaN  \n",
              "17793         -       3:55:12   17794   6954     1287  2015        NaN  \n",
              "48326   4:29:08       4:29:08   21728   9449     1593  2016        NaN  \n",
              "26728   2:39:48       2:39:48     131    118        2  2016        NaN  \n",
              "50428   4:51:26       4:51:26   23830  10556     5116  2016        NaN  \n",
              "52887   5:49:13       5:49:13   26289  11963       26  2016        NaN  \n",
              "40244   3:49:10       3:49:10   13646   4729     3086  2016        NaN  \n",
              "37963   3:41:43       3:41:43   11365   3439     2444  2016        NaN  \n",
              "\n",
              "[10 rows x 27 columns]"
            ],
            "text/html": [
              "\n",
              "  <div id=\"df-038195e5-1d27-4cf0-be4b-2ed25da77a27\" class=\"colab-df-container\">\n",
              "    <div>\n",
              "<style scoped>\n",
              "    .dataframe tbody tr th:only-of-type {\n",
              "        vertical-align: middle;\n",
              "    }\n",
              "\n",
              "    .dataframe tbody tr th {\n",
              "        vertical-align: top;\n",
              "    }\n",
              "\n",
              "    .dataframe thead th {\n",
              "        text-align: right;\n",
              "    }\n",
              "</style>\n",
              "<table border=\"1\" class=\"dataframe\">\n",
              "  <thead>\n",
              "    <tr style=\"text-align: right;\">\n",
              "      <th></th>\n",
              "      <th>Unnamed: 0</th>\n",
              "      <th>Bib</th>\n",
              "      <th>Name</th>\n",
              "      <th>Age</th>\n",
              "      <th>M/F</th>\n",
              "      <th>City</th>\n",
              "      <th>State</th>\n",
              "      <th>Country</th>\n",
              "      <th>Citizen</th>\n",
              "      <th>Unnamed: 9</th>\n",
              "      <th>...</th>\n",
              "      <th>35K</th>\n",
              "      <th>40K</th>\n",
              "      <th>Pace</th>\n",
              "      <th>Proj Time</th>\n",
              "      <th>Official Time</th>\n",
              "      <th>Overall</th>\n",
              "      <th>Gender</th>\n",
              "      <th>Division</th>\n",
              "      <th>Year</th>\n",
              "      <th>Unnamed: 8</th>\n",
              "    </tr>\n",
              "  </thead>\n",
              "  <tbody>\n",
              "    <tr>\n",
              "      <th>13175</th>\n",
              "      <td>13175.0</td>\n",
              "      <td>19329</td>\n",
              "      <td>Gaylor, Tracey L.</td>\n",
              "      <td>36</td>\n",
              "      <td>F</td>\n",
              "      <td>Bowmanville</td>\n",
              "      <td>ON</td>\n",
              "      <td>CAN</td>\n",
              "      <td>NaN</td>\n",
              "      <td>NaN</td>\n",
              "      <td>...</td>\n",
              "      <td>2:57:16</td>\n",
              "      <td>3:26:11</td>\n",
              "      <td>0:08:22</td>\n",
              "      <td>-</td>\n",
              "      <td>3:39:17</td>\n",
              "      <td>13176</td>\n",
              "      <td>4121</td>\n",
              "      <td>2982</td>\n",
              "      <td>2015</td>\n",
              "      <td>NaN</td>\n",
              "    </tr>\n",
              "    <tr>\n",
              "      <th>73929</th>\n",
              "      <td>20701.0</td>\n",
              "      <td>23583</td>\n",
              "      <td>King, Margaret</td>\n",
              "      <td>55</td>\n",
              "      <td>F</td>\n",
              "      <td>Ottawa</td>\n",
              "      <td>ON</td>\n",
              "      <td>CAN</td>\n",
              "      <td>NaN</td>\n",
              "      <td>NaN</td>\n",
              "      <td>...</td>\n",
              "      <td>3:37:09</td>\n",
              "      <td>4:12:09</td>\n",
              "      <td>0:10:13</td>\n",
              "      <td>-</td>\n",
              "      <td>4:27:46</td>\n",
              "      <td>20703</td>\n",
              "      <td>8831</td>\n",
              "      <td>428</td>\n",
              "      <td>2017</td>\n",
              "      <td>NaN</td>\n",
              "    </tr>\n",
              "    <tr>\n",
              "      <th>7901</th>\n",
              "      <td>7901.0</td>\n",
              "      <td>10802</td>\n",
              "      <td>Yu, Yeong Hye</td>\n",
              "      <td>54</td>\n",
              "      <td>F</td>\n",
              "      <td>Seoul</td>\n",
              "      <td>NaN</td>\n",
              "      <td>KOR</td>\n",
              "      <td>NaN</td>\n",
              "      <td>NaN</td>\n",
              "      <td>...</td>\n",
              "      <td>2:46:23</td>\n",
              "      <td>3:11:37</td>\n",
              "      <td>0:07:46</td>\n",
              "      <td>-</td>\n",
              "      <td>3:23:12</td>\n",
              "      <td>7902</td>\n",
              "      <td>1405</td>\n",
              "      <td>28</td>\n",
              "      <td>2015</td>\n",
              "      <td>NaN</td>\n",
              "    </tr>\n",
              "    <tr>\n",
              "      <th>17793</th>\n",
              "      <td>17793.0</td>\n",
              "      <td>20852</td>\n",
              "      <td>Hendrickson, Christine</td>\n",
              "      <td>40</td>\n",
              "      <td>F</td>\n",
              "      <td>Fort Wayne</td>\n",
              "      <td>IN</td>\n",
              "      <td>USA</td>\n",
              "      <td>NaN</td>\n",
              "      <td>NaN</td>\n",
              "      <td>...</td>\n",
              "      <td>3:12:11</td>\n",
              "      <td>3:41:55</td>\n",
              "      <td>0:08:59</td>\n",
              "      <td>-</td>\n",
              "      <td>3:55:12</td>\n",
              "      <td>17794</td>\n",
              "      <td>6954</td>\n",
              "      <td>1287</td>\n",
              "      <td>2015</td>\n",
              "      <td>NaN</td>\n",
              "    </tr>\n",
              "    <tr>\n",
              "      <th>48326</th>\n",
              "      <td>NaN</td>\n",
              "      <td>21317</td>\n",
              "      <td>Wiese, Aida</td>\n",
              "      <td>44</td>\n",
              "      <td>F</td>\n",
              "      <td>Collierville</td>\n",
              "      <td>TN</td>\n",
              "      <td>USA</td>\n",
              "      <td>NaN</td>\n",
              "      <td>NaN</td>\n",
              "      <td>...</td>\n",
              "      <td>3:38:17</td>\n",
              "      <td>4:12:36</td>\n",
              "      <td>0:10:16</td>\n",
              "      <td>4:29:08</td>\n",
              "      <td>4:29:08</td>\n",
              "      <td>21728</td>\n",
              "      <td>9449</td>\n",
              "      <td>1593</td>\n",
              "      <td>2016</td>\n",
              "      <td>NaN</td>\n",
              "    </tr>\n",
              "    <tr>\n",
              "      <th>26728</th>\n",
              "      <td>NaN</td>\n",
              "      <td>291</td>\n",
              "      <td>Pliska, Kenneth</td>\n",
              "      <td>50</td>\n",
              "      <td>M</td>\n",
              "      <td>Golden</td>\n",
              "      <td>CO</td>\n",
              "      <td>USA</td>\n",
              "      <td>NaN</td>\n",
              "      <td>NaN</td>\n",
              "      <td>...</td>\n",
              "      <td>2:11:40</td>\n",
              "      <td>2:31:20</td>\n",
              "      <td>0:06:06</td>\n",
              "      <td>2:39:48</td>\n",
              "      <td>2:39:48</td>\n",
              "      <td>131</td>\n",
              "      <td>118</td>\n",
              "      <td>2</td>\n",
              "      <td>2016</td>\n",
              "      <td>NaN</td>\n",
              "    </tr>\n",
              "    <tr>\n",
              "      <th>50428</th>\n",
              "      <td>NaN</td>\n",
              "      <td>12912</td>\n",
              "      <td>Miller, Stephanie</td>\n",
              "      <td>36</td>\n",
              "      <td>F</td>\n",
              "      <td>Lawrenceville</td>\n",
              "      <td>GA</td>\n",
              "      <td>USA</td>\n",
              "      <td>NaN</td>\n",
              "      <td>NaN</td>\n",
              "      <td>...</td>\n",
              "      <td>4:03:54</td>\n",
              "      <td>4:36:59</td>\n",
              "      <td>0:11:07</td>\n",
              "      <td>4:51:26</td>\n",
              "      <td>4:51:26</td>\n",
              "      <td>23830</td>\n",
              "      <td>10556</td>\n",
              "      <td>5116</td>\n",
              "      <td>2016</td>\n",
              "      <td>NaN</td>\n",
              "    </tr>\n",
              "    <tr>\n",
              "      <th>52887</th>\n",
              "      <td>NaN</td>\n",
              "      <td>26049</td>\n",
              "      <td>Goslin, Carol</td>\n",
              "      <td>71</td>\n",
              "      <td>F</td>\n",
              "      <td>Kansas City</td>\n",
              "      <td>MO</td>\n",
              "      <td>USA</td>\n",
              "      <td>NaN</td>\n",
              "      <td>NaN</td>\n",
              "      <td>...</td>\n",
              "      <td>4:49:17</td>\n",
              "      <td>5:31:33</td>\n",
              "      <td>0:13:20</td>\n",
              "      <td>5:49:13</td>\n",
              "      <td>5:49:13</td>\n",
              "      <td>26289</td>\n",
              "      <td>11963</td>\n",
              "      <td>26</td>\n",
              "      <td>2016</td>\n",
              "      <td>NaN</td>\n",
              "    </tr>\n",
              "    <tr>\n",
              "      <th>40244</th>\n",
              "      <td>NaN</td>\n",
              "      <td>20292</td>\n",
              "      <td>Dunkley, Robin M</td>\n",
              "      <td>38</td>\n",
              "      <td>F</td>\n",
              "      <td>Victoria</td>\n",
              "      <td>BC</td>\n",
              "      <td>CAN</td>\n",
              "      <td>NaN</td>\n",
              "      <td>NaN</td>\n",
              "      <td>...</td>\n",
              "      <td>3:08:36</td>\n",
              "      <td>3:36:44</td>\n",
              "      <td>0:08:45</td>\n",
              "      <td>3:49:10</td>\n",
              "      <td>3:49:10</td>\n",
              "      <td>13646</td>\n",
              "      <td>4729</td>\n",
              "      <td>3086</td>\n",
              "      <td>2016</td>\n",
              "      <td>NaN</td>\n",
              "    </tr>\n",
              "    <tr>\n",
              "      <th>37963</th>\n",
              "      <td>NaN</td>\n",
              "      <td>15201</td>\n",
              "      <td>Dewitt, Nicole M.</td>\n",
              "      <td>26</td>\n",
              "      <td>F</td>\n",
              "      <td>Vernonia</td>\n",
              "      <td>OR</td>\n",
              "      <td>USA</td>\n",
              "      <td>NaN</td>\n",
              "      <td>NaN</td>\n",
              "      <td>...</td>\n",
              "      <td>3:02:13</td>\n",
              "      <td>3:30:02</td>\n",
              "      <td>0:08:28</td>\n",
              "      <td>3:41:43</td>\n",
              "      <td>3:41:43</td>\n",
              "      <td>11365</td>\n",
              "      <td>3439</td>\n",
              "      <td>2444</td>\n",
              "      <td>2016</td>\n",
              "      <td>NaN</td>\n",
              "    </tr>\n",
              "  </tbody>\n",
              "</table>\n",
              "<p>10 rows × 27 columns</p>\n",
              "</div>\n",
              "    <div class=\"colab-df-buttons\">\n",
              "\n",
              "  <div class=\"colab-df-container\">\n",
              "    <button class=\"colab-df-convert\" onclick=\"convertToInteractive('df-038195e5-1d27-4cf0-be4b-2ed25da77a27')\"\n",
              "            title=\"Convert this dataframe to an interactive table.\"\n",
              "            style=\"display:none;\">\n",
              "\n",
              "  <svg xmlns=\"http://www.w3.org/2000/svg\" height=\"24px\" viewBox=\"0 -960 960 960\">\n",
              "    <path d=\"M120-120v-720h720v720H120Zm60-500h600v-160H180v160Zm220 220h160v-160H400v160Zm0 220h160v-160H400v160ZM180-400h160v-160H180v160Zm440 0h160v-160H620v160ZM180-180h160v-160H180v160Zm440 0h160v-160H620v160Z\"/>\n",
              "  </svg>\n",
              "    </button>\n",
              "\n",
              "  <style>\n",
              "    .colab-df-container {\n",
              "      display:flex;\n",
              "      gap: 12px;\n",
              "    }\n",
              "\n",
              "    .colab-df-convert {\n",
              "      background-color: #E8F0FE;\n",
              "      border: none;\n",
              "      border-radius: 50%;\n",
              "      cursor: pointer;\n",
              "      display: none;\n",
              "      fill: #1967D2;\n",
              "      height: 32px;\n",
              "      padding: 0 0 0 0;\n",
              "      width: 32px;\n",
              "    }\n",
              "\n",
              "    .colab-df-convert:hover {\n",
              "      background-color: #E2EBFA;\n",
              "      box-shadow: 0px 1px 2px rgba(60, 64, 67, 0.3), 0px 1px 3px 1px rgba(60, 64, 67, 0.15);\n",
              "      fill: #174EA6;\n",
              "    }\n",
              "\n",
              "    .colab-df-buttons div {\n",
              "      margin-bottom: 4px;\n",
              "    }\n",
              "\n",
              "    [theme=dark] .colab-df-convert {\n",
              "      background-color: #3B4455;\n",
              "      fill: #D2E3FC;\n",
              "    }\n",
              "\n",
              "    [theme=dark] .colab-df-convert:hover {\n",
              "      background-color: #434B5C;\n",
              "      box-shadow: 0px 1px 3px 1px rgba(0, 0, 0, 0.15);\n",
              "      filter: drop-shadow(0px 1px 2px rgba(0, 0, 0, 0.3));\n",
              "      fill: #FFFFFF;\n",
              "    }\n",
              "  </style>\n",
              "\n",
              "    <script>\n",
              "      const buttonEl =\n",
              "        document.querySelector('#df-038195e5-1d27-4cf0-be4b-2ed25da77a27 button.colab-df-convert');\n",
              "      buttonEl.style.display =\n",
              "        google.colab.kernel.accessAllowed ? 'block' : 'none';\n",
              "\n",
              "      async function convertToInteractive(key) {\n",
              "        const element = document.querySelector('#df-038195e5-1d27-4cf0-be4b-2ed25da77a27');\n",
              "        const dataTable =\n",
              "          await google.colab.kernel.invokeFunction('convertToInteractive',\n",
              "                                                    [key], {});\n",
              "        if (!dataTable) return;\n",
              "\n",
              "        const docLinkHtml = 'Like what you see? Visit the ' +\n",
              "          '<a target=\"_blank\" href=https://colab.research.google.com/notebooks/data_table.ipynb>data table notebook</a>'\n",
              "          + ' to learn more about interactive tables.';\n",
              "        element.innerHTML = '';\n",
              "        dataTable['output_type'] = 'display_data';\n",
              "        await google.colab.output.renderOutput(dataTable, element);\n",
              "        const docLink = document.createElement('div');\n",
              "        docLink.innerHTML = docLinkHtml;\n",
              "        element.appendChild(docLink);\n",
              "      }\n",
              "    </script>\n",
              "  </div>\n",
              "\n",
              "\n",
              "<div id=\"df-42f0aeb9-4d22-4f5c-abbc-324c1d7558a4\">\n",
              "  <button class=\"colab-df-quickchart\" onclick=\"quickchart('df-42f0aeb9-4d22-4f5c-abbc-324c1d7558a4')\"\n",
              "            title=\"Suggest charts\"\n",
              "            style=\"display:none;\">\n",
              "\n",
              "<svg xmlns=\"http://www.w3.org/2000/svg\" height=\"24px\"viewBox=\"0 0 24 24\"\n",
              "     width=\"24px\">\n",
              "    <g>\n",
              "        <path d=\"M19 3H5c-1.1 0-2 .9-2 2v14c0 1.1.9 2 2 2h14c1.1 0 2-.9 2-2V5c0-1.1-.9-2-2-2zM9 17H7v-7h2v7zm4 0h-2V7h2v10zm4 0h-2v-4h2v4z\"/>\n",
              "    </g>\n",
              "</svg>\n",
              "  </button>\n",
              "\n",
              "<style>\n",
              "  .colab-df-quickchart {\n",
              "      --bg-color: #E8F0FE;\n",
              "      --fill-color: #1967D2;\n",
              "      --hover-bg-color: #E2EBFA;\n",
              "      --hover-fill-color: #174EA6;\n",
              "      --disabled-fill-color: #AAA;\n",
              "      --disabled-bg-color: #DDD;\n",
              "  }\n",
              "\n",
              "  [theme=dark] .colab-df-quickchart {\n",
              "      --bg-color: #3B4455;\n",
              "      --fill-color: #D2E3FC;\n",
              "      --hover-bg-color: #434B5C;\n",
              "      --hover-fill-color: #FFFFFF;\n",
              "      --disabled-bg-color: #3B4455;\n",
              "      --disabled-fill-color: #666;\n",
              "  }\n",
              "\n",
              "  .colab-df-quickchart {\n",
              "    background-color: var(--bg-color);\n",
              "    border: none;\n",
              "    border-radius: 50%;\n",
              "    cursor: pointer;\n",
              "    display: none;\n",
              "    fill: var(--fill-color);\n",
              "    height: 32px;\n",
              "    padding: 0;\n",
              "    width: 32px;\n",
              "  }\n",
              "\n",
              "  .colab-df-quickchart:hover {\n",
              "    background-color: var(--hover-bg-color);\n",
              "    box-shadow: 0 1px 2px rgba(60, 64, 67, 0.3), 0 1px 3px 1px rgba(60, 64, 67, 0.15);\n",
              "    fill: var(--button-hover-fill-color);\n",
              "  }\n",
              "\n",
              "  .colab-df-quickchart-complete:disabled,\n",
              "  .colab-df-quickchart-complete:disabled:hover {\n",
              "    background-color: var(--disabled-bg-color);\n",
              "    fill: var(--disabled-fill-color);\n",
              "    box-shadow: none;\n",
              "  }\n",
              "\n",
              "  .colab-df-spinner {\n",
              "    border: 2px solid var(--fill-color);\n",
              "    border-color: transparent;\n",
              "    border-bottom-color: var(--fill-color);\n",
              "    animation:\n",
              "      spin 1s steps(1) infinite;\n",
              "  }\n",
              "\n",
              "  @keyframes spin {\n",
              "    0% {\n",
              "      border-color: transparent;\n",
              "      border-bottom-color: var(--fill-color);\n",
              "      border-left-color: var(--fill-color);\n",
              "    }\n",
              "    20% {\n",
              "      border-color: transparent;\n",
              "      border-left-color: var(--fill-color);\n",
              "      border-top-color: var(--fill-color);\n",
              "    }\n",
              "    30% {\n",
              "      border-color: transparent;\n",
              "      border-left-color: var(--fill-color);\n",
              "      border-top-color: var(--fill-color);\n",
              "      border-right-color: var(--fill-color);\n",
              "    }\n",
              "    40% {\n",
              "      border-color: transparent;\n",
              "      border-right-color: var(--fill-color);\n",
              "      border-top-color: var(--fill-color);\n",
              "    }\n",
              "    60% {\n",
              "      border-color: transparent;\n",
              "      border-right-color: var(--fill-color);\n",
              "    }\n",
              "    80% {\n",
              "      border-color: transparent;\n",
              "      border-right-color: var(--fill-color);\n",
              "      border-bottom-color: var(--fill-color);\n",
              "    }\n",
              "    90% {\n",
              "      border-color: transparent;\n",
              "      border-bottom-color: var(--fill-color);\n",
              "    }\n",
              "  }\n",
              "</style>\n",
              "\n",
              "  <script>\n",
              "    async function quickchart(key) {\n",
              "      const quickchartButtonEl =\n",
              "        document.querySelector('#' + key + ' button');\n",
              "      quickchartButtonEl.disabled = true;  // To prevent multiple clicks.\n",
              "      quickchartButtonEl.classList.add('colab-df-spinner');\n",
              "      try {\n",
              "        const charts = await google.colab.kernel.invokeFunction(\n",
              "            'suggestCharts', [key], {});\n",
              "      } catch (error) {\n",
              "        console.error('Error during call to suggestCharts:', error);\n",
              "      }\n",
              "      quickchartButtonEl.classList.remove('colab-df-spinner');\n",
              "      quickchartButtonEl.classList.add('colab-df-quickchart-complete');\n",
              "    }\n",
              "    (() => {\n",
              "      let quickchartButtonEl =\n",
              "        document.querySelector('#df-42f0aeb9-4d22-4f5c-abbc-324c1d7558a4 button');\n",
              "      quickchartButtonEl.style.display =\n",
              "        google.colab.kernel.accessAllowed ? 'block' : 'none';\n",
              "    })();\n",
              "  </script>\n",
              "</div>\n",
              "\n",
              "    </div>\n",
              "  </div>\n"
            ],
            "application/vnd.google.colaboratory.intrinsic+json": {
              "type": "dataframe"
            }
          },
          "metadata": {},
          "execution_count": 8
        }
      ],
      "source": [
        "df.sample(10)\n",
        "# Default sample is executed without replacement. If you want to sample with replacement, use\n",
        "# df.sample(replace=True)"
      ]
    },
    {
      "cell_type": "markdown",
      "metadata": {
        "id": "EHSXFBiVXDKO"
      },
      "source": [
        "Check the number of rows, columns:"
      ]
    },
    {
      "cell_type": "code",
      "execution_count": null,
      "metadata": {
        "colab": {
          "base_uri": "https://localhost:8080/"
        },
        "id": "6CD4GEAzXDKP",
        "outputId": "9a6117ea-af7e-4d76-f94e-10f1c30b4b67"
      },
      "outputs": [
        {
          "output_type": "execute_result",
          "data": {
            "text/plain": [
              "(79638, 27)"
            ]
          },
          "metadata": {},
          "execution_count": 9
        }
      ],
      "source": [
        "df.shape"
      ]
    },
    {
      "cell_type": "markdown",
      "metadata": {
        "id": "r-cpfYomXDKP"
      },
      "source": [
        "Check type of each column:\n"
      ]
    },
    {
      "cell_type": "code",
      "execution_count": null,
      "metadata": {
        "colab": {
          "base_uri": "https://localhost:8080/"
        },
        "id": "WO64TC6-XDKP",
        "outputId": "1aa33844-0e52-4493-9f7c-df13f5e4a218"
      },
      "outputs": [
        {
          "output_type": "execute_result",
          "data": {
            "text/plain": [
              "Unnamed: 0       float64\n",
              "Bib               object\n",
              "Name              object\n",
              "Age                int64\n",
              "M/F               object\n",
              "City              object\n",
              "State             object\n",
              "Country           object\n",
              "Citizen           object\n",
              "Unnamed: 9        object\n",
              "5K                object\n",
              "10K               object\n",
              "15K               object\n",
              "20K               object\n",
              "Half              object\n",
              "25K               object\n",
              "30K               object\n",
              "35K               object\n",
              "40K               object\n",
              "Pace              object\n",
              "Proj Time         object\n",
              "Official Time     object\n",
              "Overall            int64\n",
              "Gender             int64\n",
              "Division           int64\n",
              "Year               int64\n",
              "Unnamed: 8        object\n",
              "dtype: object"
            ]
          },
          "metadata": {},
          "execution_count": 10
        }
      ],
      "source": [
        "df.dtypes\n",
        "\n"
      ]
    },
    {
      "cell_type": "markdown",
      "metadata": {
        "id": "lqvAyB4CXDKP"
      },
      "source": [
        "We can see that all columns relating to time are not of type numeric, which needs further processing.\n",
        "\n",
        "But let us finish inspecting first. Let's check if there are duplicates."
      ]
    },
    {
      "cell_type": "code",
      "execution_count": null,
      "metadata": {
        "colab": {
          "base_uri": "https://localhost:8080/"
        },
        "id": "LfGkCAXdXDKP",
        "outputId": "b0202878-1b0d-4028-9028-62ebbc5dd2eb"
      },
      "outputs": [
        {
          "output_type": "stream",
          "name": "stdout",
          "text": [
            "Number of duplicate rows:  0\n"
          ]
        }
      ],
      "source": [
        "print(\"Number of duplicate rows: \", df.duplicated().sum())"
      ]
    },
    {
      "cell_type": "markdown",
      "metadata": {
        "id": "gdRzpzB1XDKP"
      },
      "source": [
        "Since there are no duplicates, we will randomly duplicate 10 rows and add them to the end of the original data frame for demonstration purpose.\n"
      ]
    },
    {
      "cell_type": "code",
      "execution_count": null,
      "metadata": {
        "colab": {
          "base_uri": "https://localhost:8080/"
        },
        "id": "0CXfHlL4XDKQ",
        "outputId": "58f64cb0-6817-41ad-b537-20ec901b8dd3"
      },
      "outputs": [
        {
          "output_type": "stream",
          "name": "stdout",
          "text": [
            "Number of duplicate rows after tampering:  10\n"
          ]
        }
      ],
      "source": [
        "df = pd.concat([df, df.sample(n=10)])\n",
        "print('Number of duplicate rows after tampering: ', df.duplicated().sum())"
      ]
    },
    {
      "cell_type": "markdown",
      "metadata": {
        "id": "vBMugfmkXDKQ"
      },
      "source": [
        "Then we can remove the duplicating rows:"
      ]
    },
    {
      "cell_type": "code",
      "execution_count": null,
      "metadata": {
        "id": "SgIkrDc_XDKQ"
      },
      "outputs": [],
      "source": [
        "df.drop_duplicates(inplace=True)\n"
      ]
    },
    {
      "cell_type": "markdown",
      "metadata": {
        "id": "eew4swH-XDKQ"
      },
      "source": [
        "`df=df.drop_duplicates()` also works to remove the duplicating rows.\n",
        "\n",
        "Note: If we want to modify a dataframe without creating a new one, most dataframe operations support inplace argument like the above example. If we simply use `df.drop_duplicates()`, this will create a new copy of modified dataFrame.\n"
      ]
    },
    {
      "cell_type": "markdown",
      "metadata": {
        "id": "stOOEJzZXDKQ"
      },
      "source": [
        "\n",
        "### Transforming Data\n",
        "\n",
        "Previously, we mentioned that the format of time is not desirable. We want to change its type from object to numeric. One way to do is to convert to seconds using `pd.to_timedelta()` method. Let's take the 5K column as an example."
      ]
    },
    {
      "cell_type": "code",
      "execution_count": null,
      "metadata": {
        "colab": {
          "base_uri": "https://localhost:8080/"
        },
        "id": "JOTdl-6sXDKQ",
        "outputId": "2a3bdf0c-daff-49db-ca7c-a4facacd261a"
      },
      "outputs": [
        {
          "output_type": "execute_result",
          "data": {
            "text/plain": [
              "229"
            ]
          },
          "metadata": {},
          "execution_count": 14
        }
      ],
      "source": [
        "temp_5k_in_seconds = pd.to_timedelta(df['5K'], errors='coerce').dt.total_seconds()\n",
        "\n",
        "# check if there is any failure\n",
        "temp_5k_in_seconds.isna().sum()"
      ]
    },
    {
      "cell_type": "markdown",
      "metadata": {
        "id": "6NRej3mGXDKQ"
      },
      "source": [
        "We can see there are some conversion failures and we want to know why. Below locates the NaNs and checks the original values. We want to make sure that we do not lose any info.\n"
      ]
    },
    {
      "cell_type": "code",
      "execution_count": null,
      "metadata": {
        "colab": {
          "base_uri": "https://localhost:8080/"
        },
        "id": "m6l3CK03XDKQ",
        "outputId": "8916d971-48fa-4c25-fcc6-bb459f0c8888"
      },
      "outputs": [
        {
          "output_type": "stream",
          "name": "stdout",
          "text": [
            "2327     -\n",
            "3384     -\n",
            "3860     -\n",
            "7747     -\n",
            "8897     -\n",
            "        ..\n",
            "76395    -\n",
            "76478    -\n",
            "77631    -\n",
            "78322    -\n",
            "79349    -\n",
            "Name: 5K, Length: 229, dtype: object\n"
          ]
        }
      ],
      "source": [
        "print(df['5K'][np.where(pd.isna(temp_5k_in_seconds))[0]])\n",
        "\n",
        "# Another way to debug:\n",
        "# for i, str in enumerate(df['5K'].to_list()):\n",
        "#     try:\n",
        "#         pd.to_timedelta(str)\n",
        "#     except:\n",
        "#         print(i)\n",
        "#         print(str)\n",
        "#         break"
      ]
    },
    {
      "cell_type": "markdown",
      "metadata": {
        "id": "PmNiKKncXDKR"
      },
      "source": [
        "Now we convert all time related columns:\n"
      ]
    },
    {
      "cell_type": "code",
      "execution_count": null,
      "metadata": {
        "id": "p-5Lc1g4XDKR"
      },
      "outputs": [],
      "source": [
        "columns = ['5K', '10K', '15K', '20K', 'Half', '25K', '30K', '35K', '40K', 'Pace', 'Proj Time', 'Official Time']\n",
        "\n",
        "for column in columns:\n",
        "    df[column] = pd.to_timedelta(df[column], errors='coerce').dt.total_seconds()\n"
      ]
    },
    {
      "cell_type": "code",
      "execution_count": null,
      "metadata": {
        "colab": {
          "base_uri": "https://localhost:8080/"
        },
        "id": "ZDybiyFfXDKR",
        "outputId": "0addade8-3491-4e81-f8c0-772acab52ab7"
      },
      "outputs": [
        {
          "output_type": "execute_result",
          "data": {
            "text/plain": [
              "Unnamed: 0       float64\n",
              "Bib               object\n",
              "Name              object\n",
              "Age                int64\n",
              "M/F               object\n",
              "City              object\n",
              "State             object\n",
              "Country           object\n",
              "Citizen           object\n",
              "Unnamed: 9        object\n",
              "5K               float64\n",
              "10K              float64\n",
              "15K              float64\n",
              "20K              float64\n",
              "Half             float64\n",
              "25K              float64\n",
              "30K              float64\n",
              "35K              float64\n",
              "40K              float64\n",
              "Pace             float64\n",
              "Proj Time        float64\n",
              "Official Time    float64\n",
              "Overall            int64\n",
              "Gender             int64\n",
              "Division           int64\n",
              "Year               int64\n",
              "Unnamed: 8        object\n",
              "dtype: object"
            ]
          },
          "metadata": {},
          "execution_count": 17
        }
      ],
      "source": [
        "df.dtypes"
      ]
    },
    {
      "cell_type": "markdown",
      "metadata": {
        "id": "bE7Wk5YCXDKR"
      },
      "source": [
        "**Exercise** Read Pandas document, choose a column and convert the time to minutes."
      ]
    },
    {
      "cell_type": "code",
      "source": [
        "exersise_column = data_2015['5K']\n",
        "exersise_column_in_minutes = pd.to_timedelta(exersise_column, errors='coerce').dt.total_seconds() / 60\n",
        "exersise_column_in_minutes.head(10)"
      ],
      "metadata": {
        "colab": {
          "base_uri": "https://localhost:8080/"
        },
        "id": "-izLTvyYg2QU",
        "outputId": "028b5bc4-1fcb-446e-ea4d-02619c19707f"
      },
      "execution_count": null,
      "outputs": [
        {
          "output_type": "execute_result",
          "data": {
            "text/plain": [
              "0    14.716667\n",
              "1    14.716667\n",
              "2    14.716667\n",
              "3    14.716667\n",
              "4    14.716667\n",
              "5    14.733333\n",
              "6    14.750000\n",
              "7    14.733333\n",
              "8    14.716667\n",
              "9    15.233333\n",
              "Name: 5K, dtype: float64"
            ]
          },
          "metadata": {},
          "execution_count": 7
        }
      ]
    },
    {
      "cell_type": "markdown",
      "metadata": {
        "id": "k_vBfzNeXDKR"
      },
      "source": [
        "### Handle Missing Values\n",
        "\n",
        "Now we are ready to handle missing values. First, we check if each column in this df has missing values."
      ]
    },
    {
      "cell_type": "code",
      "execution_count": null,
      "metadata": {
        "colab": {
          "base_uri": "https://localhost:8080/"
        },
        "id": "lC4cGSROXDKR",
        "outputId": "634c9341-096b-461c-aa97-230fd8493346"
      },
      "outputs": [
        {
          "output_type": "stream",
          "name": "stdout",
          "text": [
            "Unnamed: 0       26630\n",
            "Bib                  0\n",
            "Name                 0\n",
            "Age                  0\n",
            "M/F                  0\n",
            "City                 1\n",
            "State             8993\n",
            "Country              0\n",
            "Citizen          76198\n",
            "Unnamed: 9       79480\n",
            "5K                 229\n",
            "10K                114\n",
            "15K                 51\n",
            "20K                 85\n",
            "Half                62\n",
            "25K                 81\n",
            "30K                 88\n",
            "35K                 86\n",
            "40K                 76\n",
            "Pace                 0\n",
            "Proj Time        53117\n",
            "Official Time        0\n",
            "Overall              0\n",
            "Gender               0\n",
            "Division             0\n",
            "Year                 0\n",
            "Unnamed: 8       79555\n",
            "dtype: int64\n"
          ]
        }
      ],
      "source": [
        "print(df.isnull().sum())"
      ]
    },
    {
      "cell_type": "markdown",
      "metadata": {
        "id": "uSOd5u5ZXDKR"
      },
      "source": [
        "Before we do anything to the dataframe, we want to know why there are missing values. It is a good time to check the documentation page and the data source.\n",
        "\n",
        "From there, we know that State is only filled by USA runners and Citizen is an optional field that most runners chose not to fill when they registered. For the time related columns, missing values may occur becuase a runner's time is not recorded properly at a specific checkpoint.\n",
        "\n",
        "The columns *Unnamed: 9* and *Unnamed: 8* seems to be human error when the data is scraped. Let's not concern about them right now."
      ]
    },
    {
      "cell_type": "markdown",
      "metadata": {
        "id": "pkusHcIvXDKR"
      },
      "source": [
        "**Drop the missing values**\n",
        "\n",
        "If, however, you do not have a reason to figure out why there are missing values (which rarely happens), you can drop rows with NA's:"
      ]
    },
    {
      "cell_type": "code",
      "execution_count": null,
      "metadata": {
        "colab": {
          "base_uri": "https://localhost:8080/"
        },
        "id": "BUpGNzh_XDKS",
        "outputId": "fad56fbf-7560-469e-b175-817e847368e8"
      },
      "outputs": [
        {
          "output_type": "stream",
          "name": "stdout",
          "text": [
            "Unnamed: 0       0.0\n",
            "Bib              0.0\n",
            "Name             0.0\n",
            "Age              0.0\n",
            "M/F              0.0\n",
            "City             0.0\n",
            "State            0.0\n",
            "Country          0.0\n",
            "Citizen          0.0\n",
            "Unnamed: 9       0.0\n",
            "5K               0.0\n",
            "10K              0.0\n",
            "15K              0.0\n",
            "20K              0.0\n",
            "Half             0.0\n",
            "25K              0.0\n",
            "30K              0.0\n",
            "35K              0.0\n",
            "40K              0.0\n",
            "Pace             0.0\n",
            "Proj Time        0.0\n",
            "Official Time    0.0\n",
            "Overall          0.0\n",
            "Gender           0.0\n",
            "Division         0.0\n",
            "Year             0.0\n",
            "Unnamed: 8       0.0\n",
            "dtype: float64\n"
          ]
        },
        {
          "output_type": "execute_result",
          "data": {
            "text/plain": [
              "(0, 27)"
            ]
          },
          "metadata": {},
          "execution_count": 9
        }
      ],
      "source": [
        "temp_na_rows_dropped = df.dropna()\n",
        "print(temp_na_rows_dropped.isnull().sum())\n",
        "\n",
        "temp_na_rows_dropped.shape\n"
      ]
    },
    {
      "cell_type": "markdown",
      "metadata": {
        "id": "AwhHq48LXDKS"
      },
      "source": [
        "It looks like we removed all the data, because each row has at least one missing value. To validate our statement, we can perform the below operation:\n"
      ]
    },
    {
      "cell_type": "code",
      "execution_count": null,
      "metadata": {
        "colab": {
          "base_uri": "https://localhost:8080/"
        },
        "id": "iSSCA75wXDKS",
        "outputId": "0f4ea86a-f675-4c3f-92c2-e84c4d75d220"
      },
      "outputs": [
        {
          "output_type": "stream",
          "name": "stdout",
          "text": [
            "79638\n"
          ]
        },
        {
          "output_type": "execute_result",
          "data": {
            "text/plain": [
              "(79638, 27)"
            ]
          },
          "metadata": {},
          "execution_count": 10
        }
      ],
      "source": [
        "print(df.isnull().any(axis=1).sum())\n",
        "df.shape\n"
      ]
    },
    {
      "cell_type": "markdown",
      "metadata": {
        "id": "3ZxaDRL0XDKS"
      },
      "source": [
        "The number of rows that has missing values is equal to the number of rows in this dataframe. How about dropping columns with missing values?\n"
      ]
    },
    {
      "cell_type": "code",
      "execution_count": null,
      "metadata": {
        "colab": {
          "base_uri": "https://localhost:8080/"
        },
        "id": "WeCUE17-XDKS",
        "outputId": "cd38e355-2a5b-42d9-da2a-554d07de3718"
      },
      "outputs": [
        {
          "output_type": "stream",
          "name": "stdout",
          "text": [
            "Bib              0\n",
            "Name             0\n",
            "Age              0\n",
            "M/F              0\n",
            "Country          0\n",
            "Pace             0\n",
            "Official Time    0\n",
            "Overall          0\n",
            "Gender           0\n",
            "Division         0\n",
            "Year             0\n",
            "dtype: int64\n"
          ]
        },
        {
          "output_type": "execute_result",
          "data": {
            "text/plain": [
              "(79638, 11)"
            ]
          },
          "metadata": {},
          "execution_count": 11
        }
      ],
      "source": [
        "temp_na_columns_dropped = df.dropna(axis=1)\n",
        "print(temp_na_columns_dropped.isnull().sum())\n",
        "\n",
        "temp_na_columns_dropped.shape"
      ]
    },
    {
      "cell_type": "markdown",
      "metadata": {
        "id": "BhSQi2CIXDKS"
      },
      "source": [
        "We dropped all of the \"splits\" time, which is not ideal for detailed analysis.\n",
        "\n",
        "**Fill the missing values**\n",
        "\n",
        "Alternatively, we can also fill na's with appropriate values. In this case, we can fill the missing values with empty strings and 0's, depending on column type."
      ]
    },
    {
      "cell_type": "code",
      "execution_count": null,
      "metadata": {
        "colab": {
          "base_uri": "https://localhost:8080/",
          "height": 270
        },
        "id": "nO4uoNMcXDKY",
        "outputId": "8c099a05-12e2-4e70-bb2f-527e6d4afdf9"
      },
      "outputs": [
        {
          "output_type": "execute_result",
          "data": {
            "text/plain": [
              "   Unnamed: 0 Bib                   Name  Age M/F         City State Country  \\\n",
              "0         0.0   3         Desisa, Lelisa   25   M         Ambo           ETH   \n",
              "1         1.0   4  Tsegay, Yemane Adhane   30   M  Addis Ababa           ETH   \n",
              "2         2.0   8         Chebet, Wilson   29   M     Marakwet           KEN   \n",
              "3         3.0  11       Kipyego, Bernard   28   M      Eldoret           KEN   \n",
              "4         4.0  10          Korir, Wesley   32   M       Kitale           KEN   \n",
              "\n",
              "  Citizen Unnamed: 9  ...     35K     40K   Pace  Proj Time  Official Time  \\\n",
              "0                     ...  6479.0  7359.0  296.0        0.0         7757.0   \n",
              "1                     ...  6479.0  7362.0  298.0        0.0         7788.0   \n",
              "2                     ...  6479.0  7381.0  299.0        0.0         7822.0   \n",
              "3                     ...  6483.0  7427.0  300.0        0.0         7847.0   \n",
              "4                     ...  6479.0  7407.0  300.0        0.0         7849.0   \n",
              "\n",
              "   Overall  Gender  Division  Year  Unnamed: 8  \n",
              "0        1       1         1  2015              \n",
              "1        2       2         2  2015              \n",
              "2        3       3         3  2015              \n",
              "3        4       4         4  2015              \n",
              "4        5       5         5  2015              \n",
              "\n",
              "[5 rows x 27 columns]"
            ],
            "text/html": [
              "\n",
              "  <div id=\"df-cc72bdfa-6d43-4ac1-9037-b17756c3f153\" class=\"colab-df-container\">\n",
              "    <div>\n",
              "<style scoped>\n",
              "    .dataframe tbody tr th:only-of-type {\n",
              "        vertical-align: middle;\n",
              "    }\n",
              "\n",
              "    .dataframe tbody tr th {\n",
              "        vertical-align: top;\n",
              "    }\n",
              "\n",
              "    .dataframe thead th {\n",
              "        text-align: right;\n",
              "    }\n",
              "</style>\n",
              "<table border=\"1\" class=\"dataframe\">\n",
              "  <thead>\n",
              "    <tr style=\"text-align: right;\">\n",
              "      <th></th>\n",
              "      <th>Unnamed: 0</th>\n",
              "      <th>Bib</th>\n",
              "      <th>Name</th>\n",
              "      <th>Age</th>\n",
              "      <th>M/F</th>\n",
              "      <th>City</th>\n",
              "      <th>State</th>\n",
              "      <th>Country</th>\n",
              "      <th>Citizen</th>\n",
              "      <th>Unnamed: 9</th>\n",
              "      <th>...</th>\n",
              "      <th>35K</th>\n",
              "      <th>40K</th>\n",
              "      <th>Pace</th>\n",
              "      <th>Proj Time</th>\n",
              "      <th>Official Time</th>\n",
              "      <th>Overall</th>\n",
              "      <th>Gender</th>\n",
              "      <th>Division</th>\n",
              "      <th>Year</th>\n",
              "      <th>Unnamed: 8</th>\n",
              "    </tr>\n",
              "  </thead>\n",
              "  <tbody>\n",
              "    <tr>\n",
              "      <th>0</th>\n",
              "      <td>0.0</td>\n",
              "      <td>3</td>\n",
              "      <td>Desisa, Lelisa</td>\n",
              "      <td>25</td>\n",
              "      <td>M</td>\n",
              "      <td>Ambo</td>\n",
              "      <td></td>\n",
              "      <td>ETH</td>\n",
              "      <td></td>\n",
              "      <td></td>\n",
              "      <td>...</td>\n",
              "      <td>6479.0</td>\n",
              "      <td>7359.0</td>\n",
              "      <td>296.0</td>\n",
              "      <td>0.0</td>\n",
              "      <td>7757.0</td>\n",
              "      <td>1</td>\n",
              "      <td>1</td>\n",
              "      <td>1</td>\n",
              "      <td>2015</td>\n",
              "      <td></td>\n",
              "    </tr>\n",
              "    <tr>\n",
              "      <th>1</th>\n",
              "      <td>1.0</td>\n",
              "      <td>4</td>\n",
              "      <td>Tsegay, Yemane Adhane</td>\n",
              "      <td>30</td>\n",
              "      <td>M</td>\n",
              "      <td>Addis Ababa</td>\n",
              "      <td></td>\n",
              "      <td>ETH</td>\n",
              "      <td></td>\n",
              "      <td></td>\n",
              "      <td>...</td>\n",
              "      <td>6479.0</td>\n",
              "      <td>7362.0</td>\n",
              "      <td>298.0</td>\n",
              "      <td>0.0</td>\n",
              "      <td>7788.0</td>\n",
              "      <td>2</td>\n",
              "      <td>2</td>\n",
              "      <td>2</td>\n",
              "      <td>2015</td>\n",
              "      <td></td>\n",
              "    </tr>\n",
              "    <tr>\n",
              "      <th>2</th>\n",
              "      <td>2.0</td>\n",
              "      <td>8</td>\n",
              "      <td>Chebet, Wilson</td>\n",
              "      <td>29</td>\n",
              "      <td>M</td>\n",
              "      <td>Marakwet</td>\n",
              "      <td></td>\n",
              "      <td>KEN</td>\n",
              "      <td></td>\n",
              "      <td></td>\n",
              "      <td>...</td>\n",
              "      <td>6479.0</td>\n",
              "      <td>7381.0</td>\n",
              "      <td>299.0</td>\n",
              "      <td>0.0</td>\n",
              "      <td>7822.0</td>\n",
              "      <td>3</td>\n",
              "      <td>3</td>\n",
              "      <td>3</td>\n",
              "      <td>2015</td>\n",
              "      <td></td>\n",
              "    </tr>\n",
              "    <tr>\n",
              "      <th>3</th>\n",
              "      <td>3.0</td>\n",
              "      <td>11</td>\n",
              "      <td>Kipyego, Bernard</td>\n",
              "      <td>28</td>\n",
              "      <td>M</td>\n",
              "      <td>Eldoret</td>\n",
              "      <td></td>\n",
              "      <td>KEN</td>\n",
              "      <td></td>\n",
              "      <td></td>\n",
              "      <td>...</td>\n",
              "      <td>6483.0</td>\n",
              "      <td>7427.0</td>\n",
              "      <td>300.0</td>\n",
              "      <td>0.0</td>\n",
              "      <td>7847.0</td>\n",
              "      <td>4</td>\n",
              "      <td>4</td>\n",
              "      <td>4</td>\n",
              "      <td>2015</td>\n",
              "      <td></td>\n",
              "    </tr>\n",
              "    <tr>\n",
              "      <th>4</th>\n",
              "      <td>4.0</td>\n",
              "      <td>10</td>\n",
              "      <td>Korir, Wesley</td>\n",
              "      <td>32</td>\n",
              "      <td>M</td>\n",
              "      <td>Kitale</td>\n",
              "      <td></td>\n",
              "      <td>KEN</td>\n",
              "      <td></td>\n",
              "      <td></td>\n",
              "      <td>...</td>\n",
              "      <td>6479.0</td>\n",
              "      <td>7407.0</td>\n",
              "      <td>300.0</td>\n",
              "      <td>0.0</td>\n",
              "      <td>7849.0</td>\n",
              "      <td>5</td>\n",
              "      <td>5</td>\n",
              "      <td>5</td>\n",
              "      <td>2015</td>\n",
              "      <td></td>\n",
              "    </tr>\n",
              "  </tbody>\n",
              "</table>\n",
              "<p>5 rows × 27 columns</p>\n",
              "</div>\n",
              "    <div class=\"colab-df-buttons\">\n",
              "\n",
              "  <div class=\"colab-df-container\">\n",
              "    <button class=\"colab-df-convert\" onclick=\"convertToInteractive('df-cc72bdfa-6d43-4ac1-9037-b17756c3f153')\"\n",
              "            title=\"Convert this dataframe to an interactive table.\"\n",
              "            style=\"display:none;\">\n",
              "\n",
              "  <svg xmlns=\"http://www.w3.org/2000/svg\" height=\"24px\" viewBox=\"0 -960 960 960\">\n",
              "    <path d=\"M120-120v-720h720v720H120Zm60-500h600v-160H180v160Zm220 220h160v-160H400v160Zm0 220h160v-160H400v160ZM180-400h160v-160H180v160Zm440 0h160v-160H620v160ZM180-180h160v-160H180v160Zm440 0h160v-160H620v160Z\"/>\n",
              "  </svg>\n",
              "    </button>\n",
              "\n",
              "  <style>\n",
              "    .colab-df-container {\n",
              "      display:flex;\n",
              "      gap: 12px;\n",
              "    }\n",
              "\n",
              "    .colab-df-convert {\n",
              "      background-color: #E8F0FE;\n",
              "      border: none;\n",
              "      border-radius: 50%;\n",
              "      cursor: pointer;\n",
              "      display: none;\n",
              "      fill: #1967D2;\n",
              "      height: 32px;\n",
              "      padding: 0 0 0 0;\n",
              "      width: 32px;\n",
              "    }\n",
              "\n",
              "    .colab-df-convert:hover {\n",
              "      background-color: #E2EBFA;\n",
              "      box-shadow: 0px 1px 2px rgba(60, 64, 67, 0.3), 0px 1px 3px 1px rgba(60, 64, 67, 0.15);\n",
              "      fill: #174EA6;\n",
              "    }\n",
              "\n",
              "    .colab-df-buttons div {\n",
              "      margin-bottom: 4px;\n",
              "    }\n",
              "\n",
              "    [theme=dark] .colab-df-convert {\n",
              "      background-color: #3B4455;\n",
              "      fill: #D2E3FC;\n",
              "    }\n",
              "\n",
              "    [theme=dark] .colab-df-convert:hover {\n",
              "      background-color: #434B5C;\n",
              "      box-shadow: 0px 1px 3px 1px rgba(0, 0, 0, 0.15);\n",
              "      filter: drop-shadow(0px 1px 2px rgba(0, 0, 0, 0.3));\n",
              "      fill: #FFFFFF;\n",
              "    }\n",
              "  </style>\n",
              "\n",
              "    <script>\n",
              "      const buttonEl =\n",
              "        document.querySelector('#df-cc72bdfa-6d43-4ac1-9037-b17756c3f153 button.colab-df-convert');\n",
              "      buttonEl.style.display =\n",
              "        google.colab.kernel.accessAllowed ? 'block' : 'none';\n",
              "\n",
              "      async function convertToInteractive(key) {\n",
              "        const element = document.querySelector('#df-cc72bdfa-6d43-4ac1-9037-b17756c3f153');\n",
              "        const dataTable =\n",
              "          await google.colab.kernel.invokeFunction('convertToInteractive',\n",
              "                                                    [key], {});\n",
              "        if (!dataTable) return;\n",
              "\n",
              "        const docLinkHtml = 'Like what you see? Visit the ' +\n",
              "          '<a target=\"_blank\" href=https://colab.research.google.com/notebooks/data_table.ipynb>data table notebook</a>'\n",
              "          + ' to learn more about interactive tables.';\n",
              "        element.innerHTML = '';\n",
              "        dataTable['output_type'] = 'display_data';\n",
              "        await google.colab.output.renderOutput(dataTable, element);\n",
              "        const docLink = document.createElement('div');\n",
              "        docLink.innerHTML = docLinkHtml;\n",
              "        element.appendChild(docLink);\n",
              "      }\n",
              "    </script>\n",
              "  </div>\n",
              "\n",
              "\n",
              "<div id=\"df-f34e4d04-2ea8-4f91-bcb4-154a972e0fb1\">\n",
              "  <button class=\"colab-df-quickchart\" onclick=\"quickchart('df-f34e4d04-2ea8-4f91-bcb4-154a972e0fb1')\"\n",
              "            title=\"Suggest charts\"\n",
              "            style=\"display:none;\">\n",
              "\n",
              "<svg xmlns=\"http://www.w3.org/2000/svg\" height=\"24px\"viewBox=\"0 0 24 24\"\n",
              "     width=\"24px\">\n",
              "    <g>\n",
              "        <path d=\"M19 3H5c-1.1 0-2 .9-2 2v14c0 1.1.9 2 2 2h14c1.1 0 2-.9 2-2V5c0-1.1-.9-2-2-2zM9 17H7v-7h2v7zm4 0h-2V7h2v10zm4 0h-2v-4h2v4z\"/>\n",
              "    </g>\n",
              "</svg>\n",
              "  </button>\n",
              "\n",
              "<style>\n",
              "  .colab-df-quickchart {\n",
              "      --bg-color: #E8F0FE;\n",
              "      --fill-color: #1967D2;\n",
              "      --hover-bg-color: #E2EBFA;\n",
              "      --hover-fill-color: #174EA6;\n",
              "      --disabled-fill-color: #AAA;\n",
              "      --disabled-bg-color: #DDD;\n",
              "  }\n",
              "\n",
              "  [theme=dark] .colab-df-quickchart {\n",
              "      --bg-color: #3B4455;\n",
              "      --fill-color: #D2E3FC;\n",
              "      --hover-bg-color: #434B5C;\n",
              "      --hover-fill-color: #FFFFFF;\n",
              "      --disabled-bg-color: #3B4455;\n",
              "      --disabled-fill-color: #666;\n",
              "  }\n",
              "\n",
              "  .colab-df-quickchart {\n",
              "    background-color: var(--bg-color);\n",
              "    border: none;\n",
              "    border-radius: 50%;\n",
              "    cursor: pointer;\n",
              "    display: none;\n",
              "    fill: var(--fill-color);\n",
              "    height: 32px;\n",
              "    padding: 0;\n",
              "    width: 32px;\n",
              "  }\n",
              "\n",
              "  .colab-df-quickchart:hover {\n",
              "    background-color: var(--hover-bg-color);\n",
              "    box-shadow: 0 1px 2px rgba(60, 64, 67, 0.3), 0 1px 3px 1px rgba(60, 64, 67, 0.15);\n",
              "    fill: var(--button-hover-fill-color);\n",
              "  }\n",
              "\n",
              "  .colab-df-quickchart-complete:disabled,\n",
              "  .colab-df-quickchart-complete:disabled:hover {\n",
              "    background-color: var(--disabled-bg-color);\n",
              "    fill: var(--disabled-fill-color);\n",
              "    box-shadow: none;\n",
              "  }\n",
              "\n",
              "  .colab-df-spinner {\n",
              "    border: 2px solid var(--fill-color);\n",
              "    border-color: transparent;\n",
              "    border-bottom-color: var(--fill-color);\n",
              "    animation:\n",
              "      spin 1s steps(1) infinite;\n",
              "  }\n",
              "\n",
              "  @keyframes spin {\n",
              "    0% {\n",
              "      border-color: transparent;\n",
              "      border-bottom-color: var(--fill-color);\n",
              "      border-left-color: var(--fill-color);\n",
              "    }\n",
              "    20% {\n",
              "      border-color: transparent;\n",
              "      border-left-color: var(--fill-color);\n",
              "      border-top-color: var(--fill-color);\n",
              "    }\n",
              "    30% {\n",
              "      border-color: transparent;\n",
              "      border-left-color: var(--fill-color);\n",
              "      border-top-color: var(--fill-color);\n",
              "      border-right-color: var(--fill-color);\n",
              "    }\n",
              "    40% {\n",
              "      border-color: transparent;\n",
              "      border-right-color: var(--fill-color);\n",
              "      border-top-color: var(--fill-color);\n",
              "    }\n",
              "    60% {\n",
              "      border-color: transparent;\n",
              "      border-right-color: var(--fill-color);\n",
              "    }\n",
              "    80% {\n",
              "      border-color: transparent;\n",
              "      border-right-color: var(--fill-color);\n",
              "      border-bottom-color: var(--fill-color);\n",
              "    }\n",
              "    90% {\n",
              "      border-color: transparent;\n",
              "      border-bottom-color: var(--fill-color);\n",
              "    }\n",
              "  }\n",
              "</style>\n",
              "\n",
              "  <script>\n",
              "    async function quickchart(key) {\n",
              "      const quickchartButtonEl =\n",
              "        document.querySelector('#' + key + ' button');\n",
              "      quickchartButtonEl.disabled = true;  // To prevent multiple clicks.\n",
              "      quickchartButtonEl.classList.add('colab-df-spinner');\n",
              "      try {\n",
              "        const charts = await google.colab.kernel.invokeFunction(\n",
              "            'suggestCharts', [key], {});\n",
              "      } catch (error) {\n",
              "        console.error('Error during call to suggestCharts:', error);\n",
              "      }\n",
              "      quickchartButtonEl.classList.remove('colab-df-spinner');\n",
              "      quickchartButtonEl.classList.add('colab-df-quickchart-complete');\n",
              "    }\n",
              "    (() => {\n",
              "      let quickchartButtonEl =\n",
              "        document.querySelector('#df-f34e4d04-2ea8-4f91-bcb4-154a972e0fb1 button');\n",
              "      quickchartButtonEl.style.display =\n",
              "        google.colab.kernel.accessAllowed ? 'block' : 'none';\n",
              "    })();\n",
              "  </script>\n",
              "</div>\n",
              "\n",
              "    </div>\n",
              "  </div>\n"
            ],
            "application/vnd.google.colaboratory.intrinsic+json": {
              "type": "dataframe",
              "variable_name": "temp_filled"
            }
          },
          "metadata": {},
          "execution_count": 12
        }
      ],
      "source": [
        "temp_filled = df.copy()\n",
        "for col in temp_filled.columns:\n",
        "    if df[col].dtype == 'object':\n",
        "        temp_filled[col].fillna('', inplace=True)\n",
        "    else:\n",
        "        temp_filled[col].fillna(0, inplace=True)\n",
        "\n",
        "temp_filled.head()"
      ]
    },
    {
      "cell_type": "markdown",
      "metadata": {
        "id": "xAd2f6JjXDKY"
      },
      "source": [
        "**Impute the missing values**\n",
        "\n",
        "The split times of some runners are not recorded properly and are set to NaN when we tried to convert time to seconds. In this case, one way to impute these NaN's is to take the portion of official time accordingly."
      ]
    },
    {
      "cell_type": "code",
      "execution_count": null,
      "metadata": {
        "id": "HxCzvKqdXDKZ"
      },
      "outputs": [],
      "source": [
        "columns = [[5, '5K'], [10, '10K'], [15, '15K'], [20, '20K'], [42.195/2, 'Half'], [25, '25K'], [30, '30K'], [35, '35K'], [40, '40K']]\n",
        "\n",
        "df_imputed = df.copy()\n",
        "\n",
        "for [miles, column] in columns:\n",
        "    df_imputed.loc[df[column].isna(), column] = df['Official Time'][df[column].isna()] * (miles / 42.195)\n",
        "\n"
      ]
    },
    {
      "cell_type": "code",
      "execution_count": null,
      "metadata": {
        "colab": {
          "base_uri": "https://localhost:8080/"
        },
        "id": "8sYTvZKCXDKZ",
        "outputId": "48111495-e879-4fdb-8451-b68b2b740fb0"
      },
      "outputs": [
        {
          "output_type": "execute_result",
          "data": {
            "text/plain": [
              "Unnamed: 0       26630\n",
              "Bib                  0\n",
              "Name                 0\n",
              "Age                  0\n",
              "M/F                  0\n",
              "City                 1\n",
              "State             8993\n",
              "Country              0\n",
              "Citizen          76198\n",
              "Unnamed: 9       79480\n",
              "5K                   0\n",
              "10K                  0\n",
              "15K                  0\n",
              "20K                  0\n",
              "Half                 0\n",
              "25K                  0\n",
              "30K                  0\n",
              "35K                  0\n",
              "40K                  0\n",
              "Pace                 0\n",
              "Proj Time        53117\n",
              "Official Time        0\n",
              "Overall              0\n",
              "Gender               0\n",
              "Division             0\n",
              "Year                 0\n",
              "Unnamed: 8       79555\n",
              "dtype: int64"
            ]
          },
          "metadata": {},
          "execution_count": 42
        }
      ],
      "source": [
        "df_imputed.isnull().sum()"
      ]
    },
    {
      "cell_type": "markdown",
      "metadata": {
        "id": "2_OVMMRKXDKZ"
      },
      "source": [
        "**Exercise** Can you think of other ways to fill missing split time? Write your ideas or codes."
      ]
    },
    {
      "cell_type": "markdown",
      "source": [
        "One possible idea:\n",
        "- Impute the missing split from nearby splits (for example, fill missing 10K values with the average of 5K and 15K time if they are not NaN's)."
      ],
      "metadata": {
        "id": "NDWNoQvSjMjQ"
      }
    },
    {
      "cell_type": "markdown",
      "metadata": {
        "id": "g7uzx-v1XDKZ"
      },
      "source": [
        "\n",
        "Note that any method dealing with missing values adds additional bias to our data. Choose them wisely!"
      ]
    },
    {
      "cell_type": "markdown",
      "metadata": {
        "id": "qawUsbBpXDKZ"
      },
      "source": [
        "## Explanatory Data Analysis (EDA)\n",
        "\n",
        "### What are the differences?\n",
        "\n",
        "Data wrangling and exploratory data analysis (EDA) are two important steps in the data analysis process. While they are related, they serve distinct purposes.\n",
        "\n",
        "**Data wrangling** focuses on cleaning, transforming, and preparing raw data for analysis. It ensures data quality and prepares it for further processing. Techniques include cleaning, preprocessing, and aggregation.\n",
        "\n",
        "**Exploratory Data Analysis (EDA)** involves analyzing and visualizing data to gain insights, identify patterns, and understand its structure. It explores relationships between variables, detects outliers, and generates hypotheses.\n",
        "\n",
        "Data wrangling sets the foundation for EDA by ensuring data quality and structure, while EDA helps in understanding the data and generating hypotheses for further analysis. Both steps are crucial in the data analysis process and often go hand in hand.\n"
      ]
    },
    {
      "cell_type": "markdown",
      "metadata": {
        "id": "CT5JSeOfXDKZ"
      },
      "source": [
        "### Data Exploration\n",
        "First, we deplay summary statistics for numeric columns."
      ]
    },
    {
      "cell_type": "code",
      "execution_count": null,
      "metadata": {
        "colab": {
          "base_uri": "https://localhost:8080/"
        },
        "id": "Xe9ImoiEXDKZ",
        "outputId": "edb41344-d868-4c09-9f9d-5578d0fc9fd4"
      },
      "outputs": [
        {
          "output_type": "stream",
          "name": "stdout",
          "text": [
            "Summary statistics:\n",
            "          Unnamed: 0           Age            5K           10K           15K  \\\n",
            "count  53008.000000  79638.000000  79409.000000  79524.000000  79587.000000   \n",
            "mean   13251.666692     42.415166   1527.392361   3056.006124   4610.047307   \n",
            "std     7651.406646     11.355453    238.229185    479.974721    736.051219   \n",
            "min        0.000000     18.000000    883.000000   1783.000000   2697.000000   \n",
            "25%     6625.750000     34.000000   1355.000000   2711.000000   4085.000000   \n",
            "50%    13251.500000     42.000000   1497.000000   2992.000000   4508.000000   \n",
            "75%    19877.250000     50.000000   1654.000000   3312.000000   4997.000000   \n",
            "max    26597.000000     84.000000   3350.000000   6436.000000   9705.000000   \n",
            "\n",
            "                20K         Half           25K           30K           35K  \\\n",
            "count  79553.000000  79576.00000  79557.000000  79550.000000  79552.000000   \n",
            "mean    6213.512727   6559.22601   7857.497744   9595.217197  11409.743715   \n",
            "std     1019.400499   1077.86020   1328.821194   1670.760154   2024.275266   \n",
            "min     3628.000000   3841.00000   4565.000000   5519.000000   6479.000000   \n",
            "25%     5495.000000   5801.00000   6928.000000   8432.000000   9998.000000   \n",
            "50%     6064.000000   6399.00000   7648.000000   9326.000000  11079.000000   \n",
            "75%     6734.000000   7108.00000   8527.000000  10446.000000  12463.000000   \n",
            "max    16180.000000  17237.00000  16566.000000  27398.000000  24691.000000   \n",
            "\n",
            "                40K          Pace     Proj Time  Official Time       Overall  \\\n",
            "count  79562.000000  79638.000000  26521.000000   79638.000000  79638.000000   \n",
            "mean   13211.480380    534.086529  14110.096904   13989.929167  13273.683417   \n",
            "std     2357.102722     95.090340   2466.363480    2492.272069   7663.512720   \n",
            "min     7359.000000    296.000000   7965.000000    7757.000000      1.000000   \n",
            "25%    11571.000000    468.000000  12394.000000   12258.000000   6637.250000   \n",
            "50%    12830.000000    519.000000  13692.000000   13592.000000  13273.500000   \n",
            "75%    14469.000000    585.000000  15411.000000   15325.000000  19910.000000   \n",
            "max    28752.000000   1470.000000  38536.000000   37823.000000  26629.000000   \n",
            "\n",
            "             Gender      Division          Year  \n",
            "count  79638.000000  79638.000000  79638.000000  \n",
            "mean    6693.365064   1618.782792   2015.997639  \n",
            "std     3927.594786   1448.369424      0.815852  \n",
            "min        1.000000      1.000000   2015.000000  \n",
            "25%     3319.000000    510.000000   2015.000000  \n",
            "50%     6637.000000   1179.500000   2016.000000  \n",
            "75%     9955.000000   2219.000000   2017.000000  \n",
            "max    14581.000000   6004.000000   2017.000000  \n"
          ]
        }
      ],
      "source": [
        "print(\"Summary statistics:\\n\", df.describe())\n"
      ]
    },
    {
      "cell_type": "markdown",
      "metadata": {
        "id": "FZKBCT4ZXDKZ"
      },
      "source": [
        "Some example questions to ask:\n",
        "\n",
        "- How many runners participated 3 years in a row? What are their names? (For simplicity, we do not consider people with the same names)"
      ]
    },
    {
      "cell_type": "code",
      "execution_count": null,
      "metadata": {
        "colab": {
          "base_uri": "https://localhost:8080/"
        },
        "id": "w0StFJHkXDKZ",
        "outputId": "8163fae1-cfe6-460b-84d3-caf2ff82681b"
      },
      "outputs": [
        {
          "output_type": "stream",
          "name": "stdout",
          "text": [
            "Number of runners who participated 3 years in a row: 2318\n"
          ]
        },
        {
          "output_type": "execute_result",
          "data": {
            "text/plain": [
              "['Dunn, Christopher M.',\n",
              " 'Young, Riya',\n",
              " 'Pschorr, Jamie F',\n",
              " 'Lavoie, Marc',\n",
              " 'Stanley, Michael John',\n",
              " 'Deroian, Rhea',\n",
              " 'Michel, Kyndal',\n",
              " 'McDermott, Jack T.',\n",
              " 'Devaney, Rick',\n",
              " 'Maru, Seiichiro']"
            ]
          },
          "metadata": {},
          "execution_count": 15
        }
      ],
      "source": [
        "# Create separate sets of names for each year\n",
        "names_2015 = set(df[df['Year'] == 2015]['Name'])\n",
        "names_2016 = set(df[df['Year'] == 2016]['Name'])\n",
        "names_2017 = set(df[df['Year'] == 2017]['Name'])\n",
        "\n",
        "# Find the intersection of the three sets\n",
        "common_names = names_2015.intersection(names_2016, names_2017)\n",
        "\n",
        "# Length of common_names\n",
        "common_names_length = len(common_names)\n",
        "\n",
        "# Print the length\n",
        "print(\"Number of runners who participated 3 years in a row:\", common_names_length)\n",
        "\n",
        "# Show first 10 names\n",
        "list(common_names)[0:10]\n",
        "\n",
        "# retrive items from a set (d)"
      ]
    },
    {
      "cell_type": "markdown",
      "metadata": {
        "id": "JH7L0wNxXDKa"
      },
      "source": [
        "- Who are the winners of each year?"
      ]
    },
    {
      "cell_type": "code",
      "execution_count": null,
      "metadata": {
        "colab": {
          "base_uri": "https://localhost:8080/"
        },
        "id": "z6zQsKGAXDKa",
        "outputId": "8bdca595-69b1-4b78-8b58-0ae588d085bd"
      },
      "outputs": [
        {
          "output_type": "stream",
          "name": "stdout",
          "text": [
            "Desisa, Lelisa - 2015\n",
            "Hayle, Lemi Berhanu - 2016\n",
            "Kirui, Geoffrey - 2017\n"
          ]
        }
      ],
      "source": [
        "winners = []\n",
        "for year in df['Year'].unique():\n",
        "    winner = df.loc[(df['Year'] == year) & (df['Overall'] == 1), 'Name'].values[0]\n",
        "    winners.append(winner)\n",
        "\n",
        "# Print winners and years side by side\n",
        "for i in range(len(winners)):\n",
        "    print(f\"{winners[i]} - {df['Year'].unique()[i]}\")"
      ]
    },
    {
      "cell_type": "markdown",
      "metadata": {
        "id": "2RxB4v-mXDKa"
      },
      "source": [
        "- Who is the oldest runner of each gender, out of these three years?"
      ]
    },
    {
      "cell_type": "code",
      "execution_count": null,
      "metadata": {
        "colab": {
          "base_uri": "https://localhost:8080/"
        },
        "id": "Ss8AN0kHXDKb",
        "outputId": "e36664ec-0714-4fda-9d63-d1e59d013041"
      },
      "outputs": [
        {
          "output_type": "stream",
          "name": "stdout",
          "text": [
            "Gender: F\n",
            "Name with the largest age: Beiers, Katherine\n",
            "Age: 84\n",
            "Time 6:04:07\n",
            "--------------------\n",
            "Gender: M\n",
            "Name with the largest age: Wilson, Harold\n",
            "Age: 83\n",
            "Time 4:51:41\n",
            "--------------------\n"
          ]
        }
      ],
      "source": [
        "# Group the data by gender\n",
        "grouped_data = df.groupby('M/F')\n",
        "\n",
        "import datetime\n",
        "\n",
        "# Loop through each group\n",
        "for gender, group in grouped_data:\n",
        "    # Find the row with the largest age in the group\n",
        "    max_age_row = group[group['Age'] == group['Age'].max()]\n",
        "    # alternatively, can use indmax() method and get\n",
        "    # max_age_index = group['Age'].idxmax()\n",
        "    # Print the name with the largest age in the group\n",
        "    print(\"Gender:\", gender)\n",
        "    print(\"Name with the largest age:\", max_age_row['Name'].values[0])\n",
        "    print(\"Age:\", max_age_row['Age'].values[0])\n",
        "    time_temp = datetime.timedelta(seconds=max_age_row['Official Time'].values[0])\n",
        "    print(\"Time\", str(time_temp).split('.')[0])\n",
        "    print(\"--------------------\")\n",
        "\n"
      ]
    },
    {
      "cell_type": "markdown",
      "metadata": {
        "id": "-_pKeKCBXDKb"
      },
      "source": [
        "**Exercise** Who are the fastest female runners in each year? How do you check the validity of your analysis?"
      ]
    },
    {
      "cell_type": "code",
      "source": [
        "female_runners = df[df['M/F'] == 'F']\n",
        "fastest_female_runners = female_runners.loc[female_runners.groupby('Year')['Official Time'].idxmin()]\n",
        "# The answer is not unique. You can also use Division column. Always read the document!\n",
        "\n",
        "def print_time(seconds):\n",
        "  # Create a timedelta object from the number of seconds\n",
        "  time_delta = datetime.timedelta(seconds=seconds)\n",
        "  # Format the timedelta object into HH:MM:SS format\n",
        "  formatted_time = str(time_delta).split('.')[0]  # Remove microseconds\n",
        "  return formatted_time\n",
        "\n",
        "fastest_female_runners['Formatted Time'] = fastest_female_runners['Official Time'].apply(print_time)\n",
        "print(fastest_female_runners[['Name', 'Year', 'Formatted Time']])"
      ],
      "metadata": {
        "id": "bfzqEa9VucK0",
        "colab": {
          "base_uri": "https://localhost:8080/"
        },
        "outputId": "d3a8441c-df6c-41e3-8413-3cd96958006c"
      },
      "execution_count": null,
      "outputs": [
        {
          "output_type": "stream",
          "name": "stdout",
          "text": [
            "                   Name  Year Formatted Time\n",
            "30     Rotich, Caroline  2015        2:24:55\n",
            "26626     Baysa, Atsede  2016        2:29:19\n",
            "53248    Kiplagat, Edna  2017        2:21:52\n"
          ]
        }
      ]
    },
    {
      "cell_type": "markdown",
      "metadata": {
        "id": "k2iOMI0BXDKb"
      },
      "source": [
        "### Data Engineering\n",
        "\n",
        "We can create some new features based on our data. One feature we can add is the division name.\n",
        "\n"
      ]
    },
    {
      "cell_type": "code",
      "execution_count": null,
      "metadata": {
        "id": "tZAmwyV7XDKb"
      },
      "outputs": [],
      "source": [
        "age_group_mapping = {\n",
        "    'M18-39': ['M', 18, 39],\n",
        "    'M40-44': ['M', 40, 44],\n",
        "    'M45-49': ['M', 45, 49],\n",
        "    'M50-54': ['M', 50, 54],\n",
        "    'M55-59': ['M', 55, 59],\n",
        "    'M60-64': ['M', 60, 64],\n",
        "    'M65-69': ['M', 65, 69],\n",
        "    'M70-74': ['M', 70, 74],\n",
        "    'M75-79': ['M', 75, 79],\n",
        "    'M80+': ['M', 80, float('inf')],\n",
        "    'F18-39': ['F', 18, 39],\n",
        "    'F40-44': ['F', 40, 44],\n",
        "    'F45-49': ['F', 45, 49],\n",
        "    'F50-54': ['F', 50, 54],\n",
        "    'F55-59': ['F', 55, 59],\n",
        "    'F60-64': ['F', 60, 64],\n",
        "    'F65-69': ['F', 65, 69],\n",
        "    'F70-74': ['F', 70, 74],\n",
        "    'F75-79': ['F', 75, 79],\n",
        "    'F80+': ['F', 80, float('inf')]\n",
        "}\n",
        "\n",
        "\n",
        "# Create an empty column for Age/Gender group\n",
        "df['Division Name'] = ''\n",
        "\n",
        "# Iterate over each row in the DataFrame\n",
        "for index, row in df.iterrows():\n",
        "    gender = row['M/F']\n",
        "    age = row['Age']\n",
        "\n",
        "    # Find the matching age group in the mapping\n",
        "    for key, value in age_group_mapping.items():\n",
        "        if value[0] == gender and value[1] <= age <= value[2]:\n",
        "            df.at[index, 'Division Name'] = key\n",
        "            break\n"
      ]
    },
    {
      "cell_type": "markdown",
      "metadata": {
        "id": "gqlhmJH3XDKb"
      },
      "source": [
        "Note: Similar to `loc`, `at` also provides label-based lookups. Use at if you only need to get or set a single value in a DataFrame or Series.\n",
        "\n",
        "Food of thought: why are we not simply using brackets?\n",
        "Hint: https://pandas.pydata.org/docs/user_guide/indexing.html#indexing-basics-get-value"
      ]
    },
    {
      "cell_type": "markdown",
      "metadata": {
        "id": "dgqjjN9UXDKb"
      },
      "source": [
        "### Data Visualization\n",
        "\n",
        "#### Histogram: Age distributions"
      ]
    },
    {
      "cell_type": "code",
      "execution_count": null,
      "metadata": {
        "colab": {
          "base_uri": "https://localhost:8080/",
          "height": 472
        },
        "id": "yQhbocGeXDKb",
        "outputId": "776b3c61-7319-4c8f-8523-2d4570a77ca0"
      },
      "outputs": [
        {
          "output_type": "display_data",
          "data": {
            "text/plain": [
              "<Figure size 640x480 with 1 Axes>"
            ],
            "image/png": "[encoded data removed]"
          },
          "metadata": {}
        }
      ],
      "source": [
        "import matplotlib.pyplot as plt\n",
        "\n",
        "# Create a histogram of age distribution\n",
        "plt.hist(df['Age'], bins=20, edgecolor='black')\n",
        "plt.xlabel('Age')\n",
        "plt.ylabel('Frequency')\n",
        "plt.title('Age Distribution')\n",
        "plt.show()\n"
      ]
    },
    {
      "cell_type": "markdown",
      "metadata": {
        "id": "AFNJFXl7XDKc"
      },
      "source": [
        "#### Scatter Plot with Trend Line: Finish Time vs Age"
      ]
    },
    {
      "cell_type": "code",
      "execution_count": null,
      "metadata": {
        "colab": {
          "base_uri": "https://localhost:8080/",
          "height": 472
        },
        "id": "4E_ZjzrxXDKc",
        "outputId": "b743d499-46c9-4de4-85d2-643e5d87410a"
      },
      "outputs": [
        {
          "output_type": "display_data",
          "data": {
            "text/plain": [
              "<Figure size 640x480 with 1 Axes>"
            ],
            "image/png": "[encoded data removed]"
          },
          "metadata": {}
        }
      ],
      "source": [
        "\n",
        "import numpy as np\n",
        "import matplotlib.pyplot as plt\n",
        "\n",
        "# Create a scatter plot of finish time vs. age\n",
        "plt.scatter(df['Age'], df['Official Time'] / 3600)\n",
        "plt.xlabel('Age')\n",
        "plt.ylabel('Finish Time (hours)')\n",
        "plt.title('Finish Time vs. Age')\n",
        "\n",
        "# Add trend line\n",
        "z = np.polyfit(df['Age'], df['Official Time'] / 3600, 1)\n",
        "p = np.poly1d(z)\n",
        "plt.plot(df['Age'], p(df['Age']), \"r--\")\n",
        "\n",
        "plt.show()\n",
        "\n"
      ]
    },
    {
      "cell_type": "markdown",
      "metadata": {
        "id": "ujxAY5NrXDKc"
      },
      "source": [
        "#### Box Plot: Division Vs Finish Time"
      ]
    },
    {
      "cell_type": "code",
      "execution_count": null,
      "metadata": {
        "colab": {
          "base_uri": "https://localhost:8080/",
          "height": 505
        },
        "id": "Lf5uCMlNXDKc",
        "outputId": "b4726e28-7d41-4537-dc75-37e678a8b812"
      },
      "outputs": [
        {
          "output_type": "display_data",
          "data": {
            "text/plain": [
              "<Figure size 640x480 with 1 Axes>"
            ],
            "image/png": "[encoded data removed]"
          },
          "metadata": {}
        }
      ],
      "source": [
        "import seaborn as sns\n",
        "\n",
        "# Create a box plot of finish time by gender\n",
        "df['Official Time (Hr)']=df['Official Time']/3600\n",
        "sns.boxplot(x='Division Name', y='Official Time (Hr)', data=df)\n",
        "plt.xlabel('Division')\n",
        "plt.ylabel('Finish Time')\n",
        "plt.title('Finish Time by Division')\n",
        "plt.rcParams['figure.figsize'] = [12, 8]\n",
        "plt.xticks(rotation=45)\n",
        "plt.show()\n",
        "\n",
        "\n",
        "\n"
      ]
    },
    {
      "cell_type": "markdown",
      "metadata": {
        "id": "RhubF2evXDKc"
      },
      "source": [
        "#### Line chart: Does Top Runners stays top for the whole race?\n",
        "\n",
        "For the fastest 10 runners in 2015, create a line chart based on their splits."
      ]
    },
    {
      "cell_type": "code",
      "execution_count": null,
      "metadata": {
        "colab": {
          "base_uri": "https://localhost:8080/",
          "height": 718
        },
        "id": "-6PsHeenXDKc",
        "outputId": "95a7a1f2-2d6a-4286-afa6-768e43c0bee1"
      },
      "outputs": [
        {
          "output_type": "display_data",
          "data": {
            "text/plain": [
              "<Figure size 1200x800 with 1 Axes>"
            ],
            "image/png": "[encoded data removed]"
          },
          "metadata": {}
        }
      ],
      "source": [
        "# sort 2015 data in order of official time\n",
        "df_2015 = df[df['Year'] == 2015].sort_values('Official Time')\n",
        "\n",
        "# Select the top 10 runners\n",
        "top_10 = df_2015.head(10)\n",
        "\n",
        "# get correctly portioned x-axis from previous columns\n",
        "\n",
        "# Create a line chart for each runner's splits\n",
        "x_axis = [row[0] for row in columns]\n",
        "x_axis.append(42.195)\n",
        "\n",
        "for index, row in top_10.iterrows():\n",
        "    plt.plot(x_axis, row[['5K', '10K', '15K', '20K', 'Half', '25K', '30K', '35K', '40K', 'Official Time']], label=row['Name'])\n",
        "\n",
        "plt.xlabel('Distance')\n",
        "plt.ylabel('Time (Seconds)')\n",
        "plt.title('Top 10 Runners in 2015')\n",
        "plt.legend()\n",
        "plt.show()"
      ]
    },
    {
      "cell_type": "markdown",
      "metadata": {
        "id": "0MJxnJRJXDKc"
      },
      "source": [
        "**Exercise** Create a scatterplot whose x-axis is Division Name and y-axis is average time in hours.\n",
        "\n",
        "Hint: Group the data by Division Name first."
      ]
    },
    {
      "cell_type": "code",
      "source": [
        "# group the data by Division Name\n",
        "grouped_data = df.groupby('Division Name')\n",
        "\n",
        "# calculate the average time in hours for each group\n",
        "average_time_hours = grouped_data['Official Time'].mean() / 3600\n",
        "\n",
        "# create scatterplot\n",
        "plt.scatter(average_time_hours.index, average_time_hours.values)\n",
        "plt.xlabel('Division Name')\n",
        "plt.ylabel('Average Time (hours)')\n",
        "plt.title('Average Time by Division')\n",
        "plt.xticks(rotation=45)\n"
      ],
      "metadata": {
        "colab": {
          "base_uri": "https://localhost:8080/",
          "height": 1000
        },
        "id": "6UF2GJZ8LkcE",
        "outputId": "824a3611-b0d8-4871-8928-35348e8fb934"
      },
      "execution_count": null,
      "outputs": [
        {
          "output_type": "execute_result",
          "data": {
            "text/plain": [
              "([0, 1, 2, 3, 4, 5, 6, 7, 8, 9, 10, 11, 12, 13, 14, 15, 16, 17, 18, 19],\n",
              " [Text(0, 0, 'F18-39'),\n",
              "  Text(1, 0, 'F40-44'),\n",
              "  Text(2, 0, 'F45-49'),\n",
              "  Text(3, 0, 'F50-54'),\n",
              "  Text(4, 0, 'F55-59'),\n",
              "  Text(5, 0, 'F60-64'),\n",
              "  Text(6, 0, 'F65-69'),\n",
              "  Text(7, 0, 'F70-74'),\n",
              "  Text(8, 0, 'F75-79'),\n",
              "  Text(9, 0, 'F80+'),\n",
              "  Text(10, 0, 'M18-39'),\n",
              "  Text(11, 0, 'M40-44'),\n",
              "  Text(12, 0, 'M45-49'),\n",
              "  Text(13, 0, 'M50-54'),\n",
              "  Text(14, 0, 'M55-59'),\n",
              "  Text(15, 0, 'M60-64'),\n",
              "  Text(16, 0, 'M65-69'),\n",
              "  Text(17, 0, 'M70-74'),\n",
              "  Text(18, 0, 'M75-79'),\n",
              "  Text(19, 0, 'M80+')])"
            ]
          },
          "metadata": {},
          "execution_count": 24
        },
        {
          "output_type": "display_data",
          "data": {
            "text/plain": [
              "<Figure size 1200x800 with 1 Axes>"
            ],
            "image/png": "[encoded data removed]"
          },
          "metadata": {}
        }
      ]
    },
    {
      "cell_type": "markdown",
      "metadata": {
        "id": "2oZtcXJyXDKc"
      },
      "source": [
        "References:\n",
        "\n",
        "[1] [https://online.hbs.edu/blog/post/data-wrangling](https://online.hbs.edu/blog/post/data-wrangling)\n",
        "\n",
        "[2] [https://www.tomasbeuzen.com/python-programming-for-data-science/](https://www.tomasbeuzen.com/python-programming-for-data-science/)\n",
        "\n",
        "[3] [https://www.kaggle.com/learn/data-cleaning](https://www.kaggle.com/learn/data-cleaning)\n",
        "\n",
        "[4] [Pandas Documentation](https://pandas.pydata.org/docs/user_guide/index.html)"
      ]
    },
    {
      "cell_type": "markdown",
      "metadata": {
        "id": "FUvcVDpPXDKc"
      },
      "source": [
        "## Take home exercises\n",
        "\n",
        "1. Find the fastest runner in each division in 2015 and print their names.\n",
        "2. What other features do you think should be added to our dataset? Can they be engineered from existing columns?\n",
        "3. Apply the data wrangling and EDA skills you learned today to your favorite dataset."
      ]
    },
    {
      "cell_type": "code",
      "source": [
        "df_2015 = df[df['Year'] == 2015]\n",
        "\n",
        "fastest_runners_2015 = df_2015.loc[df_2015.groupby('Division Name')['Official Time'].idxmin()]\n",
        "fastest_runners_2015[['Name', 'Division Name', 'Official Time']]"
      ],
      "metadata": {
        "colab": {
          "base_uri": "https://localhost:8080/",
          "height": 677
        },
        "id": "dR7Lm1nSwQaW",
        "outputId": "b0495928-d53e-4fc0-a2e0-3ff6a7821a53"
      },
      "execution_count": null,
      "outputs": [
        {
          "output_type": "execute_result",
          "data": {
            "text/plain": [
              "                       Name Division Name  Official Time\n",
              "30         Rotich, Caroline        F18-39         8695.0\n",
              "769             Olaru, Nuta        F40-44        10108.0\n",
              "626     Hunter-Galvan, Liza        F45-49        10004.0\n",
              "1243       Hitchings, Jenny        F50-54        10371.0\n",
              "1413        Samuelson, Joan        F55-59        10443.0\n",
              "5254            Vos, Sharon        F60-64        11571.0\n",
              "13269         Rice, Jeannie        F65-69        13174.0\n",
              "19050     Marmoreo, Jean E.        F70-74        14456.0\n",
              "22620          Borrett, Liz        F75-79        15996.0\n",
              "26410     Beiers, Katherine          F80+        21220.0\n",
              "0            Desisa, Lelisa        M18-39         7757.0\n",
              "14            Goffi, Danilo        M40-44         8324.0\n",
              "29       Boudalia, Said Sr.        M45-49         8689.0\n",
              "322      Maldonado, Ricardo        M50-54         9670.0\n",
              "598          Young, Jeffrey        M55-59         9983.0\n",
              "2974         Hibbard, Heath        M60-64        10901.0\n",
              "3567         Naumanen, Urpo        M65-69        11095.0\n",
              "10323          Hazucha, Jan        M70-74        12633.0\n",
              "11886  Taivassalo, Keijo K.        M75-79        12921.0\n",
              "21625        Wilson, Harold          M80+        15480.0"
            ],
            "text/html": [
              "\n",
              "  <div id=\"df-2a55217f-72a8-4d14-a596-3221bd5dadce\" class=\"colab-df-container\">\n",
              "    <div>\n",
              "<style scoped>\n",
              "    .dataframe tbody tr th:only-of-type {\n",
              "        vertical-align: middle;\n",
              "    }\n",
              "\n",
              "    .dataframe tbody tr th {\n",
              "        vertical-align: top;\n",
              "    }\n",
              "\n",
              "    .dataframe thead th {\n",
              "        text-align: right;\n",
              "    }\n",
              "</style>\n",
              "<table border=\"1\" class=\"dataframe\">\n",
              "  <thead>\n",
              "    <tr style=\"text-align: right;\">\n",
              "      <th></th>\n",
              "      <th>Name</th>\n",
              "      <th>Division Name</th>\n",
              "      <th>Official Time</th>\n",
              "    </tr>\n",
              "  </thead>\n",
              "  <tbody>\n",
              "    <tr>\n",
              "      <th>30</th>\n",
              "      <td>Rotich, Caroline</td>\n",
              "      <td>F18-39</td>\n",
              "      <td>8695.0</td>\n",
              "    </tr>\n",
              "    <tr>\n",
              "      <th>769</th>\n",
              "      <td>Olaru, Nuta</td>\n",
              "      <td>F40-44</td>\n",
              "      <td>10108.0</td>\n",
              "    </tr>\n",
              "    <tr>\n",
              "      <th>626</th>\n",
              "      <td>Hunter-Galvan, Liza</td>\n",
              "      <td>F45-49</td>\n",
              "      <td>10004.0</td>\n",
              "    </tr>\n",
              "    <tr>\n",
              "      <th>1243</th>\n",
              "      <td>Hitchings, Jenny</td>\n",
              "      <td>F50-54</td>\n",
              "      <td>10371.0</td>\n",
              "    </tr>\n",
              "    <tr>\n",
              "      <th>1413</th>\n",
              "      <td>Samuelson, Joan</td>\n",
              "      <td>F55-59</td>\n",
              "      <td>10443.0</td>\n",
              "    </tr>\n",
              "    <tr>\n",
              "      <th>5254</th>\n",
              "      <td>Vos, Sharon</td>\n",
              "      <td>F60-64</td>\n",
              "      <td>11571.0</td>\n",
              "    </tr>\n",
              "    <tr>\n",
              "      <th>13269</th>\n",
              "      <td>Rice, Jeannie</td>\n",
              "      <td>F65-69</td>\n",
              "      <td>13174.0</td>\n",
              "    </tr>\n",
              "    <tr>\n",
              "      <th>19050</th>\n",
              "      <td>Marmoreo, Jean E.</td>\n",
              "      <td>F70-74</td>\n",
              "      <td>14456.0</td>\n",
              "    </tr>\n",
              "    <tr>\n",
              "      <th>22620</th>\n",
              "      <td>Borrett, Liz</td>\n",
              "      <td>F75-79</td>\n",
              "      <td>15996.0</td>\n",
              "    </tr>\n",
              "    <tr>\n",
              "      <th>26410</th>\n",
              "      <td>Beiers, Katherine</td>\n",
              "      <td>F80+</td>\n",
              "      <td>21220.0</td>\n",
              "    </tr>\n",
              "    <tr>\n",
              "      <th>0</th>\n",
              "      <td>Desisa, Lelisa</td>\n",
              "      <td>M18-39</td>\n",
              "      <td>7757.0</td>\n",
              "    </tr>\n",
              "    <tr>\n",
              "      <th>14</th>\n",
              "      <td>Goffi, Danilo</td>\n",
              "      <td>M40-44</td>\n",
              "      <td>8324.0</td>\n",
              "    </tr>\n",
              "    <tr>\n",
              "      <th>29</th>\n",
              "      <td>Boudalia, Said Sr.</td>\n",
              "      <td>M45-49</td>\n",
              "      <td>8689.0</td>\n",
              "    </tr>\n",
              "    <tr>\n",
              "      <th>322</th>\n",
              "      <td>Maldonado, Ricardo</td>\n",
              "      <td>M50-54</td>\n",
              "      <td>9670.0</td>\n",
              "    </tr>\n",
              "    <tr>\n",
              "      <th>598</th>\n",
              "      <td>Young, Jeffrey</td>\n",
              "      <td>M55-59</td>\n",
              "      <td>9983.0</td>\n",
              "    </tr>\n",
              "    <tr>\n",
              "      <th>2974</th>\n",
              "      <td>Hibbard, Heath</td>\n",
              "      <td>M60-64</td>\n",
              "      <td>10901.0</td>\n",
              "    </tr>\n",
              "    <tr>\n",
              "      <th>3567</th>\n",
              "      <td>Naumanen, Urpo</td>\n",
              "      <td>M65-69</td>\n",
              "      <td>11095.0</td>\n",
              "    </tr>\n",
              "    <tr>\n",
              "      <th>10323</th>\n",
              "      <td>Hazucha, Jan</td>\n",
              "      <td>M70-74</td>\n",
              "      <td>12633.0</td>\n",
              "    </tr>\n",
              "    <tr>\n",
              "      <th>11886</th>\n",
              "      <td>Taivassalo, Keijo K.</td>\n",
              "      <td>M75-79</td>\n",
              "      <td>12921.0</td>\n",
              "    </tr>\n",
              "    <tr>\n",
              "      <th>21625</th>\n",
              "      <td>Wilson, Harold</td>\n",
              "      <td>M80+</td>\n",
              "      <td>15480.0</td>\n",
              "    </tr>\n",
              "  </tbody>\n",
              "</table>\n",
              "</div>\n",
              "    <div class=\"colab-df-buttons\">\n",
              "\n",
              "  <div class=\"colab-df-container\">\n",
              "    <button class=\"colab-df-convert\" onclick=\"convertToInteractive('df-2a55217f-72a8-4d14-a596-3221bd5dadce')\"\n",
              "            title=\"Convert this dataframe to an interactive table.\"\n",
              "            style=\"display:none;\">\n",
              "\n",
              "  <svg xmlns=\"http://www.w3.org/2000/svg\" height=\"24px\" viewBox=\"0 -960 960 960\">\n",
              "    <path d=\"M120-120v-720h720v720H120Zm60-500h600v-160H180v160Zm220 220h160v-160H400v160Zm0 220h160v-160H400v160ZM180-400h160v-160H180v160Zm440 0h160v-160H620v160ZM180-180h160v-160H180v160Zm440 0h160v-160H620v160Z\"/>\n",
              "  </svg>\n",
              "    </button>\n",
              "\n",
              "  <style>\n",
              "    .colab-df-container {\n",
              "      display:flex;\n",
              "      gap: 12px;\n",
              "    }\n",
              "\n",
              "    .colab-df-convert {\n",
              "      background-color: #E8F0FE;\n",
              "      border: none;\n",
              "      border-radius: 50%;\n",
              "      cursor: pointer;\n",
              "      display: none;\n",
              "      fill: #1967D2;\n",
              "      height: 32px;\n",
              "      padding: 0 0 0 0;\n",
              "      width: 32px;\n",
              "    }\n",
              "\n",
              "    .colab-df-convert:hover {\n",
              "      background-color: #E2EBFA;\n",
              "      box-shadow: 0px 1px 2px rgba(60, 64, 67, 0.3), 0px 1px 3px 1px rgba(60, 64, 67, 0.15);\n",
              "      fill: #174EA6;\n",
              "    }\n",
              "\n",
              "    .colab-df-buttons div {\n",
              "      margin-bottom: 4px;\n",
              "    }\n",
              "\n",
              "    [theme=dark] .colab-df-convert {\n",
              "      background-color: #3B4455;\n",
              "      fill: #D2E3FC;\n",
              "    }\n",
              "\n",
              "    [theme=dark] .colab-df-convert:hover {\n",
              "      background-color: #434B5C;\n",
              "      box-shadow: 0px 1px 3px 1px rgba(0, 0, 0, 0.15);\n",
              "      filter: drop-shadow(0px 1px 2px rgba(0, 0, 0, 0.3));\n",
              "      fill: #FFFFFF;\n",
              "    }\n",
              "  </style>\n",
              "\n",
              "    <script>\n",
              "      const buttonEl =\n",
              "        document.querySelector('#df-2a55217f-72a8-4d14-a596-3221bd5dadce button.colab-df-convert');\n",
              "      buttonEl.style.display =\n",
              "        google.colab.kernel.accessAllowed ? 'block' : 'none';\n",
              "\n",
              "      async function convertToInteractive(key) {\n",
              "        const element = document.querySelector('#df-2a55217f-72a8-4d14-a596-3221bd5dadce');\n",
              "        const dataTable =\n",
              "          await google.colab.kernel.invokeFunction('convertToInteractive',\n",
              "                                                    [key], {});\n",
              "        if (!dataTable) return;\n",
              "\n",
              "        const docLinkHtml = 'Like what you see? Visit the ' +\n",
              "          '<a target=\"_blank\" href=https://colab.research.google.com/notebooks/data_table.ipynb>data table notebook</a>'\n",
              "          + ' to learn more about interactive tables.';\n",
              "        element.innerHTML = '';\n",
              "        dataTable['output_type'] = 'display_data';\n",
              "        await google.colab.output.renderOutput(dataTable, element);\n",
              "        const docLink = document.createElement('div');\n",
              "        docLink.innerHTML = docLinkHtml;\n",
              "        element.appendChild(docLink);\n",
              "      }\n",
              "    </script>\n",
              "  </div>\n",
              "\n",
              "\n",
              "<div id=\"df-f0edd6c2-a30a-4887-bb06-7428b59cbb43\">\n",
              "  <button class=\"colab-df-quickchart\" onclick=\"quickchart('df-f0edd6c2-a30a-4887-bb06-7428b59cbb43')\"\n",
              "            title=\"Suggest charts\"\n",
              "            style=\"display:none;\">\n",
              "\n",
              "<svg xmlns=\"http://www.w3.org/2000/svg\" height=\"24px\"viewBox=\"0 0 24 24\"\n",
              "     width=\"24px\">\n",
              "    <g>\n",
              "        <path d=\"M19 3H5c-1.1 0-2 .9-2 2v14c0 1.1.9 2 2 2h14c1.1 0 2-.9 2-2V5c0-1.1-.9-2-2-2zM9 17H7v-7h2v7zm4 0h-2V7h2v10zm4 0h-2v-4h2v4z\"/>\n",
              "    </g>\n",
              "</svg>\n",
              "  </button>\n",
              "\n",
              "<style>\n",
              "  .colab-df-quickchart {\n",
              "      --bg-color: #E8F0FE;\n",
              "      --fill-color: #1967D2;\n",
              "      --hover-bg-color: #E2EBFA;\n",
              "      --hover-fill-color: #174EA6;\n",
              "      --disabled-fill-color: #AAA;\n",
              "      --disabled-bg-color: #DDD;\n",
              "  }\n",
              "\n",
              "  [theme=dark] .colab-df-quickchart {\n",
              "      --bg-color: #3B4455;\n",
              "      --fill-color: #D2E3FC;\n",
              "      --hover-bg-color: #434B5C;\n",
              "      --hover-fill-color: #FFFFFF;\n",
              "      --disabled-bg-color: #3B4455;\n",
              "      --disabled-fill-color: #666;\n",
              "  }\n",
              "\n",
              "  .colab-df-quickchart {\n",
              "    background-color: var(--bg-color);\n",
              "    border: none;\n",
              "    border-radius: 50%;\n",
              "    cursor: pointer;\n",
              "    display: none;\n",
              "    fill: var(--fill-color);\n",
              "    height: 32px;\n",
              "    padding: 0;\n",
              "    width: 32px;\n",
              "  }\n",
              "\n",
              "  .colab-df-quickchart:hover {\n",
              "    background-color: var(--hover-bg-color);\n",
              "    box-shadow: 0 1px 2px rgba(60, 64, 67, 0.3), 0 1px 3px 1px rgba(60, 64, 67, 0.15);\n",
              "    fill: var(--button-hover-fill-color);\n",
              "  }\n",
              "\n",
              "  .colab-df-quickchart-complete:disabled,\n",
              "  .colab-df-quickchart-complete:disabled:hover {\n",
              "    background-color: var(--disabled-bg-color);\n",
              "    fill: var(--disabled-fill-color);\n",
              "    box-shadow: none;\n",
              "  }\n",
              "\n",
              "  .colab-df-spinner {\n",
              "    border: 2px solid var(--fill-color);\n",
              "    border-color: transparent;\n",
              "    border-bottom-color: var(--fill-color);\n",
              "    animation:\n",
              "      spin 1s steps(1) infinite;\n",
              "  }\n",
              "\n",
              "  @keyframes spin {\n",
              "    0% {\n",
              "      border-color: transparent;\n",
              "      border-bottom-color: var(--fill-color);\n",
              "      border-left-color: var(--fill-color);\n",
              "    }\n",
              "    20% {\n",
              "      border-color: transparent;\n",
              "      border-left-color: var(--fill-color);\n",
              "      border-top-color: var(--fill-color);\n",
              "    }\n",
              "    30% {\n",
              "      border-color: transparent;\n",
              "      border-left-color: var(--fill-color);\n",
              "      border-top-color: var(--fill-color);\n",
              "      border-right-color: var(--fill-color);\n",
              "    }\n",
              "    40% {\n",
              "      border-color: transparent;\n",
              "      border-right-color: var(--fill-color);\n",
              "      border-top-color: var(--fill-color);\n",
              "    }\n",
              "    60% {\n",
              "      border-color: transparent;\n",
              "      border-right-color: var(--fill-color);\n",
              "    }\n",
              "    80% {\n",
              "      border-color: transparent;\n",
              "      border-right-color: var(--fill-color);\n",
              "      border-bottom-color: var(--fill-color);\n",
              "    }\n",
              "    90% {\n",
              "      border-color: transparent;\n",
              "      border-bottom-color: var(--fill-color);\n",
              "    }\n",
              "  }\n",
              "</style>\n",
              "\n",
              "  <script>\n",
              "    async function quickchart(key) {\n",
              "      const quickchartButtonEl =\n",
              "        document.querySelector('#' + key + ' button');\n",
              "      quickchartButtonEl.disabled = true;  // To prevent multiple clicks.\n",
              "      quickchartButtonEl.classList.add('colab-df-spinner');\n",
              "      try {\n",
              "        const charts = await google.colab.kernel.invokeFunction(\n",
              "            'suggestCharts', [key], {});\n",
              "      } catch (error) {\n",
              "        console.error('Error during call to suggestCharts:', error);\n",
              "      }\n",
              "      quickchartButtonEl.classList.remove('colab-df-spinner');\n",
              "      quickchartButtonEl.classList.add('colab-df-quickchart-complete');\n",
              "    }\n",
              "    (() => {\n",
              "      let quickchartButtonEl =\n",
              "        document.querySelector('#df-f0edd6c2-a30a-4887-bb06-7428b59cbb43 button');\n",
              "      quickchartButtonEl.style.display =\n",
              "        google.colab.kernel.accessAllowed ? 'block' : 'none';\n",
              "    })();\n",
              "  </script>\n",
              "</div>\n",
              "\n",
              "    </div>\n",
              "  </div>\n"
            ],
            "application/vnd.google.colaboratory.intrinsic+json": {
              "type": "dataframe",
              "summary": "{\n  \"name\": \"fastest_runners_2015[['Name', 'Division Name', 'Official Time']]\",\n  \"rows\": 20,\n  \"fields\": [\n    {\n      \"column\": \"Name\",\n      \"properties\": {\n        \"dtype\": \"string\",\n        \"num_unique_values\": 20,\n        \"samples\": [\n          \"Rotich, Caroline\",\n          \"Hazucha, Jan\",\n          \"Hibbard, Heath\"\n        ],\n        \"semantic_type\": \"\",\n        \"description\": \"\"\n      }\n    },\n    {\n      \"column\": \"Division Name\",\n      \"properties\": {\n        \"dtype\": \"string\",\n        \"num_unique_values\": 20,\n        \"samples\": [\n          \"F18-39\",\n          \"M70-74\",\n          \"M60-64\"\n        ],\n        \"semantic_type\": \"\",\n        \"description\": \"\"\n      }\n    },\n    {\n      \"column\": \"Official Time\",\n      \"properties\": {\n        \"dtype\": \"number\",\n        \"std\": 3223.099202794204,\n        \"min\": 7757.0,\n        \"max\": 21220.0,\n        \"num_unique_values\": 20,\n        \"samples\": [\n          8695.0,\n          12633.0,\n          10901.0\n        ],\n        \"semantic_type\": \"\",\n        \"description\": \"\"\n      }\n    }\n  ]\n}"
            }
          },
          "metadata": {},
          "execution_count": 25
        }
      ]
    },
    {
      "cell_type": "markdown",
      "source": [
        "# Tutorial 2: A taste of Statistical Learning\n",
        "\n",
        "In this section, we will explore various statistical learning techniques using the powerful scikit-learn library. Scikit-learn is a robust Python library that provides simple and efficient tools for data analysis and machine learning. We will perform a series of tasks including predicting marathon finish times, categorizing runners, and predicting gender based on running patterns. Through these exercises, you will gain hands-on experience with regression, clustering, and classification methods, learning how to apply these techniques to real-world data.\n",
        "\n",
        "## Preprocessing data\n",
        "\n",
        "Since scikit-learn does not handle missing values, we need to clean the data first. Recall previously,"
      ],
      "metadata": {
        "id": "wubp8iLCOVG2"
      }
    },
    {
      "cell_type": "code",
      "source": [
        "from google.colab import drive\n",
        "drive.mount('/content/drive/')\n",
        "import pandas as pd\n",
        "import numpy as np\n",
        "\n",
        "\n",
        "data_2015 = pd.read_csv(\"/content/drive/MyDrive/marathon_results_2015.csv\")\n",
        "data_2016 = pd.read_csv(\"/content/drive/MyDrive/marathon_results_2016.csv\")\n",
        "data_2017 = pd.read_csv(\"/content/drive/MyDrive/marathon_results_2017.csv\")\n",
        "\n",
        "# Add a new column 'Year' with the corresponding year for each dataframe\n",
        "data_2015['Year'] = 2015\n",
        "data_2016['Year'] = 2016\n",
        "data_2017['Year'] = 2017\n",
        "\n",
        "# Concatenate the three dataframes into a single dataframe 'df'\n",
        "df = pd.concat([data_2015, data_2016, data_2017], ignore_index=True)\n",
        "df.dtypes"
      ],
      "metadata": {
        "colab": {
          "base_uri": "https://localhost:8080/"
        },
        "id": "SV5T1tQfTF6Q",
        "outputId": "9ef227c3-0c0e-4623-a825-734db8dfd2da"
      },
      "execution_count": null,
      "outputs": [
        {
          "output_type": "stream",
          "name": "stdout",
          "text": [
            "Drive already mounted at /content/drive/; to attempt to forcibly remount, call drive.mount(\"/content/drive/\", force_remount=True).\n"
          ]
        },
        {
          "output_type": "execute_result",
          "data": {
            "text/plain": [
              "Unnamed: 0       float64\n",
              "Bib               object\n",
              "Name              object\n",
              "Age                int64\n",
              "M/F               object\n",
              "City              object\n",
              "State             object\n",
              "Country           object\n",
              "Citizen           object\n",
              "Unnamed: 9        object\n",
              "5K                object\n",
              "10K               object\n",
              "15K               object\n",
              "20K               object\n",
              "Half              object\n",
              "25K               object\n",
              "30K               object\n",
              "35K               object\n",
              "40K               object\n",
              "Pace              object\n",
              "Proj Time         object\n",
              "Official Time     object\n",
              "Overall            int64\n",
              "Gender             int64\n",
              "Division           int64\n",
              "Year               int64\n",
              "Unnamed: 8        object\n",
              "dtype: object"
            ]
          },
          "metadata": {},
          "execution_count": 14
        }
      ]
    },
    {
      "cell_type": "code",
      "source": [
        "\n",
        "# only keep useful feature for this task\n",
        "use_feature = ['Age', 'M/F', 'Country', '5K', '10K', '15K', '20K', 'Half', '25K', '30K', '35K', '40K', 'Official Time']\n",
        "df_clean = df[use_feature]\n",
        "\n",
        "# convert time into seconds\n",
        "column_names = ['5K', '10K', '15K', '20K', 'Half', '25K', '30K', '35K', '40K', 'Official Time']\n",
        "columns = [[5, '5K'], [10, '10K'], [15, '15K'], [20, '20K'], [42.195/2, 'Half'], [25, '25K'], [30, '30K'], [35, '35K'], [40, '40K'], [42.195, 'Official Time']]\n",
        "\n",
        "for column in column_names:\n",
        "    df_clean.loc[:, column] = pd.to_timedelta(df_clean[column], errors='coerce').dt.total_seconds()\n",
        "\n",
        "# impute the missing values\n",
        "df_imputed = df_clean.copy()\n",
        "\n",
        "for [miles, column] in columns:\n",
        "    df_imputed.loc[df_imputed[column].isna(), column] = df_imputed['Official Time'][df_imputed[column].isna()] * (miles / 42.195)\n",
        "\n",
        "df_clean = df_imputed\n",
        "\n"
      ],
      "metadata": {
        "id": "B-QYOtybTS1r"
      },
      "execution_count": null,
      "outputs": []
    },
    {
      "cell_type": "markdown",
      "source": [
        "## Predicting Finish Time"
      ],
      "metadata": {
        "id": "iIzSWzcNS5rX"
      }
    },
    {
      "cell_type": "markdown",
      "source": [
        "### Linear Regression"
      ],
      "metadata": {
        "id": "ivPzyuDrXxZg"
      }
    },
    {
      "cell_type": "code",
      "source": [
        "from sklearn.model_selection import train_test_split\n",
        "from sklearn.linear_model import LinearRegression\n",
        "from sklearn.metrics import mean_squared_error\n",
        "\n",
        "\n",
        "# One-hot encode categorical features\n",
        "df_encoded = pd.get_dummies(df_clean, columns=['M/F', 'Country'], drop_first=True)\n",
        "\n",
        "# Split data into features (X) and target (y)\n",
        "X = df_encoded.drop('Official Time', axis=1)\n",
        "y = df_encoded['Official Time']\n",
        "\n",
        "# Split data into training and testing sets\n",
        "X_train, X_test, y_train, y_test = train_test_split(X, y, test_size=0.2, random_state=42)\n",
        "\n",
        "# Create and train a linear regression model\n",
        "model = LinearRegression()\n",
        "model.fit(X_train, y_train)\n",
        "\n",
        "# Make predictions on the test set\n",
        "y_pred = model.predict(X_test)\n",
        "\n",
        "# Evaluate the model\n",
        "mse = mean_squared_error(y_test, y_pred)\n",
        "print('Mean Squared Error:', mse)"
      ],
      "metadata": {
        "colab": {
          "base_uri": "https://localhost:8080/"
        },
        "id": "9u8gA3i6aDtB",
        "outputId": "c526e198-0e96-44cd-c581-625db99c1d81"
      },
      "execution_count": null,
      "outputs": [
        {
          "output_type": "stream",
          "name": "stdout",
          "text": [
            "Mean Squared Error: 9833.533762489653\n"
          ]
        }
      ]
    },
    {
      "cell_type": "markdown",
      "source": [
        "### K Nearest Neighbors Regression"
      ],
      "metadata": {
        "id": "IAtmDIlMX2Ay"
      }
    },
    {
      "cell_type": "code",
      "source": [
        "# K-nearest neighbour regression\n",
        "from sklearn.neighbors import KNeighborsRegressor\n",
        "\n",
        "# Initialize and fit the model\n",
        "knn = KNeighborsRegressor(n_neighbors=10)\n",
        "knn.fit(X_train, y_train)\n",
        "\n",
        "# Make predictions\n",
        "y_pred = knn.predict(X_test)\n",
        "\n",
        "# Evaluate the model\n",
        "mse = mean_squared_error(y_test, y_pred)\n",
        "print('Mean Squared Error:', mse)"
      ],
      "metadata": {
        "colab": {
          "base_uri": "https://localhost:8080/"
        },
        "id": "8_7uXpomVhXN",
        "outputId": "e797d770-9c6d-41ee-b9d8-795fceb1199d"
      },
      "execution_count": null,
      "outputs": [
        {
          "output_type": "stream",
          "name": "stdout",
          "text": [
            "Mean Squared Error: 13347.757026619787\n"
          ]
        }
      ]
    },
    {
      "cell_type": "markdown",
      "source": [
        "## Categorize Runners\n",
        "\n"
      ],
      "metadata": {
        "id": "Yv5Nx7nRPAFV"
      }
    },
    {
      "cell_type": "markdown",
      "source": [
        "\n",
        "### K-means clustering\n",
        "\n",
        "Here is an [animation](https://www.youtube.com/watch?v=5I3Ei69I40s) on how K-means works.\n",
        "\n",
        "For the sake of time we demonstrate using only 5% of the data."
      ],
      "metadata": {
        "id": "202f90Bi-bTm"
      }
    },
    {
      "cell_type": "code",
      "source": [
        "from sklearn.cluster import KMeans\n",
        "from sklearn.preprocessing import StandardScaler\n",
        "from matplotlib import pyplot as plt\n",
        "\n",
        "# One-hot encode categorical features\n",
        "df_encoded = pd.get_dummies(df_clean, columns=['M/F', 'Country'], drop_first=True)\n",
        "\n",
        "# K-means only accept numerical data\n",
        "X = df_encoded.sample(n = 200, random_state = 35)\n",
        "\n",
        "# Normalize the data\n",
        "scaler = StandardScaler()\n",
        "X_scaled = scaler.fit_transform(X)"
      ],
      "metadata": {
        "id": "N91lb3gHw7er"
      },
      "execution_count": null,
      "outputs": []
    },
    {
      "cell_type": "code",
      "source": [
        "# Determine the optimal number of clusters using the elbow method\n",
        "# inertia is calculated by measuring the distance between\n",
        "# each data point and its centroid, squaring this distance,\n",
        "# and summing these squares across one cluster\n",
        "inertia = []\n",
        "K = range(1, 11)\n",
        "for k in K:\n",
        "    kmeans = KMeans(n_clusters=k, random_state=42)\n",
        "    kmeans.fit(X_scaled)\n",
        "    inertia.append(kmeans.inertia_)\n",
        "\n",
        "# Plot the elbow curve\n",
        "plt.figure(figsize=(8, 4))\n",
        "plt.plot(K, inertia, 'bo-')\n",
        "plt.xlabel('Number of Clusters')\n",
        "plt.ylabel('Inertia')\n",
        "plt.title('Elbow Method for Optimal Number of Clusters')\n",
        "plt.show()\n"
      ],
      "metadata": {
        "colab": {
          "base_uri": "https://localhost:8080/",
          "height": 787
        },
        "id": "Ni1eSicxZn_e",
        "outputId": "7a2d9793-94b0-42a6-b316-baf48296d137"
      },
      "execution_count": null,
      "outputs": [
        {
          "output_type": "stream",
          "name": "stderr",
          "text": [
            "/usr/local/lib/python3.10/dist-packages/sklearn/cluster/_kmeans.py:870: FutureWarning: The default value of `n_init` will change from 10 to 'auto' in 1.4. Set the value of `n_init` explicitly to suppress the warning\n",
            "  warnings.warn(\n",
            "/usr/local/lib/python3.10/dist-packages/sklearn/cluster/_kmeans.py:870: FutureWarning: The default value of `n_init` will change from 10 to 'auto' in 1.4. Set the value of `n_init` explicitly to suppress the warning\n",
            "  warnings.warn(\n",
            "/usr/local/lib/python3.10/dist-packages/sklearn/cluster/_kmeans.py:870: FutureWarning: The default value of `n_init` will change from 10 to 'auto' in 1.4. Set the value of `n_init` explicitly to suppress the warning\n",
            "  warnings.warn(\n",
            "/usr/local/lib/python3.10/dist-packages/sklearn/cluster/_kmeans.py:870: FutureWarning: The default value of `n_init` will change from 10 to 'auto' in 1.4. Set the value of `n_init` explicitly to suppress the warning\n",
            "  warnings.warn(\n",
            "/usr/local/lib/python3.10/dist-packages/sklearn/cluster/_kmeans.py:870: FutureWarning: The default value of `n_init` will change from 10 to 'auto' in 1.4. Set the value of `n_init` explicitly to suppress the warning\n",
            "  warnings.warn(\n",
            "/usr/local/lib/python3.10/dist-packages/sklearn/cluster/_kmeans.py:870: FutureWarning: The default value of `n_init` will change from 10 to 'auto' in 1.4. Set the value of `n_init` explicitly to suppress the warning\n",
            "  warnings.warn(\n",
            "/usr/local/lib/python3.10/dist-packages/sklearn/cluster/_kmeans.py:870: FutureWarning: The default value of `n_init` will change from 10 to 'auto' in 1.4. Set the value of `n_init` explicitly to suppress the warning\n",
            "  warnings.warn(\n",
            "/usr/local/lib/python3.10/dist-packages/sklearn/cluster/_kmeans.py:870: FutureWarning: The default value of `n_init` will change from 10 to 'auto' in 1.4. Set the value of `n_init` explicitly to suppress the warning\n",
            "  warnings.warn(\n",
            "/usr/local/lib/python3.10/dist-packages/sklearn/cluster/_kmeans.py:870: FutureWarning: The default value of `n_init` will change from 10 to 'auto' in 1.4. Set the value of `n_init` explicitly to suppress the warning\n",
            "  warnings.warn(\n",
            "/usr/local/lib/python3.10/dist-packages/sklearn/cluster/_kmeans.py:870: FutureWarning: The default value of `n_init` will change from 10 to 'auto' in 1.4. Set the value of `n_init` explicitly to suppress the warning\n",
            "  warnings.warn(\n"
          ]
        },
        {
          "output_type": "display_data",
          "data": {
            "text/plain": [
              "<Figure size 800x400 with 1 Axes>"
            ],
            "image/png": "[encoded data removed]"
          },
          "metadata": {}
        }
      ]
    },
    {
      "cell_type": "code",
      "source": [
        "# From the elbow curve, let's choose K=3\n",
        "kmeans = KMeans(n_clusters=3, random_state=42)\n",
        "X['KMeans_Cluster'] = kmeans.fit_predict(X_scaled)"
      ],
      "metadata": {
        "colab": {
          "base_uri": "https://localhost:8080/"
        },
        "id": "HhvWJP08eGJC",
        "outputId": "fb83e1cc-baed-4fb0-a041-2e5b79463a89"
      },
      "execution_count": null,
      "outputs": [
        {
          "output_type": "stream",
          "name": "stderr",
          "text": [
            "/usr/local/lib/python3.10/dist-packages/sklearn/cluster/_kmeans.py:870: FutureWarning: The default value of `n_init` will change from 10 to 'auto' in 1.4. Set the value of `n_init` explicitly to suppress the warning\n",
            "  warnings.warn(\n"
          ]
        }
      ]
    },
    {
      "cell_type": "markdown",
      "source": [
        "### Hierarchical clustering\n",
        "\n",
        "Because the time complexity of Hierarchial clustering is $O(n^3)$, similar to the case of K-means clustering, we only demonstrate on a subset of data."
      ],
      "metadata": {
        "id": "K3o5c4vZeTsO"
      }
    },
    {
      "cell_type": "code",
      "source": [
        "from sklearn.cluster import AgglomerativeClustering\n",
        "import scipy.cluster.hierarchy as shc\n",
        "from matplotlib import pyplot as plt\n",
        "\n",
        "X = df_encoded.sample(n = 200, random_state = 42)\n",
        "\n",
        "# Normalize the data\n",
        "scaler = StandardScaler()\n",
        "X_scaled = scaler.fit_transform(X)\n"
      ],
      "metadata": {
        "id": "TgfWcQ_xeYwg"
      },
      "execution_count": null,
      "outputs": []
    },
    {
      "cell_type": "code",
      "source": [
        "# Visualize the dendrogram to choose the optimal number of clusters\n",
        "plt.figure(figsize=(10, 7))\n",
        "plt.title(\"Dendrogram\")\n",
        "dend = shc.dendrogram(shc.linkage(X_scaled, method='ward'))\n",
        "plt.axhline(y=28, color='r', linestyle='--')\n",
        "plt.show()"
      ],
      "metadata": {
        "colab": {
          "base_uri": "https://localhost:8080/",
          "height": 507
        },
        "id": "wH1-wALcB2G7",
        "outputId": "9c37eaca-bc2b-43e3-abd8-ece9825c43e6"
      },
      "execution_count": null,
      "outputs": [
        {
          "output_type": "display_data",
          "data": {
            "text/plain": [
              "<Figure size 1000x700 with 1 Axes>"
            ],
            "image/png": "[encoded data removed]"
          },
          "metadata": {}
        }
      ]
    },
    {
      "cell_type": "code",
      "source": [
        "# Choose the number of clusters based on the dendrogram\n",
        "agglomerative = AgglomerativeClustering(n_clusters=3)\n",
        "X['Hierarchical_Cluster'] = agglomerative.fit_predict(X_scaled)"
      ],
      "metadata": {
        "id": "8t77HIPXehYX"
      },
      "execution_count": null,
      "outputs": []
    },
    {
      "cell_type": "markdown",
      "source": [
        "### Mini-batch K-means\n",
        "\n",
        "K-means is faster than hierarchical, but the time complexity still linearly depends on the number of samples. Instead of using the whole set of samples everytime we update the centroid, we can randomly select a sample of the dataset (or \"mini-batch\") to update the centroid."
      ],
      "metadata": {
        "id": "mTEcEG_4SbRR"
      }
    },
    {
      "cell_type": "code",
      "source": [
        "from sklearn.cluster import MiniBatchKMeans\n",
        "import matplotlib.pyplot as plt\n",
        "import seaborn as sns\n",
        "\n",
        "X = df_encoded\n",
        "# Normalize the data\n",
        "scaler = StandardScaler()\n",
        "X_scaled = scaler.fit_transform(X)\n",
        "\n",
        "inertia = []\n",
        "K = range(1, 11)\n",
        "for k in K:\n",
        "    minibatch_kmeans = MiniBatchKMeans(n_clusters=k, random_state=42, batch_size=100)\n",
        "    minibatch_kmeans.fit(X_scaled)\n",
        "    inertia.append(minibatch_kmeans.inertia_)\n",
        "\n",
        "# Plot the elbow curve\n",
        "plt.figure(figsize=(8, 4))\n",
        "plt.plot(K, inertia, 'bo-')\n",
        "plt.xlabel('Number of Clusters')\n",
        "plt.ylabel('Inertia')\n",
        "plt.title('Elbow Method for Optimal Number of Clusters')\n",
        "plt.show()"
      ],
      "metadata": {
        "colab": {
          "base_uri": "https://localhost:8080/",
          "height": 787
        },
        "id": "AVQqAIzwBfF8",
        "outputId": "53fba9ff-f17e-4e67-f3fd-f9d128724ed1"
      },
      "execution_count": null,
      "outputs": [
        {
          "output_type": "stream",
          "name": "stderr",
          "text": [
            "/usr/local/lib/python3.10/dist-packages/sklearn/cluster/_kmeans.py:870: FutureWarning: The default value of `n_init` will change from 3 to 'auto' in 1.4. Set the value of `n_init` explicitly to suppress the warning\n",
            "  warnings.warn(\n",
            "/usr/local/lib/python3.10/dist-packages/sklearn/cluster/_kmeans.py:870: FutureWarning: The default value of `n_init` will change from 3 to 'auto' in 1.4. Set the value of `n_init` explicitly to suppress the warning\n",
            "  warnings.warn(\n",
            "/usr/local/lib/python3.10/dist-packages/sklearn/cluster/_kmeans.py:870: FutureWarning: The default value of `n_init` will change from 3 to 'auto' in 1.4. Set the value of `n_init` explicitly to suppress the warning\n",
            "  warnings.warn(\n",
            "/usr/local/lib/python3.10/dist-packages/sklearn/cluster/_kmeans.py:870: FutureWarning: The default value of `n_init` will change from 3 to 'auto' in 1.4. Set the value of `n_init` explicitly to suppress the warning\n",
            "  warnings.warn(\n",
            "/usr/local/lib/python3.10/dist-packages/sklearn/cluster/_kmeans.py:870: FutureWarning: The default value of `n_init` will change from 3 to 'auto' in 1.4. Set the value of `n_init` explicitly to suppress the warning\n",
            "  warnings.warn(\n",
            "/usr/local/lib/python3.10/dist-packages/sklearn/cluster/_kmeans.py:870: FutureWarning: The default value of `n_init` will change from 3 to 'auto' in 1.4. Set the value of `n_init` explicitly to suppress the warning\n",
            "  warnings.warn(\n",
            "/usr/local/lib/python3.10/dist-packages/sklearn/cluster/_kmeans.py:870: FutureWarning: The default value of `n_init` will change from 3 to 'auto' in 1.4. Set the value of `n_init` explicitly to suppress the warning\n",
            "  warnings.warn(\n",
            "/usr/local/lib/python3.10/dist-packages/sklearn/cluster/_kmeans.py:870: FutureWarning: The default value of `n_init` will change from 3 to 'auto' in 1.4. Set the value of `n_init` explicitly to suppress the warning\n",
            "  warnings.warn(\n",
            "/usr/local/lib/python3.10/dist-packages/sklearn/cluster/_kmeans.py:870: FutureWarning: The default value of `n_init` will change from 3 to 'auto' in 1.4. Set the value of `n_init` explicitly to suppress the warning\n",
            "  warnings.warn(\n",
            "/usr/local/lib/python3.10/dist-packages/sklearn/cluster/_kmeans.py:870: FutureWarning: The default value of `n_init` will change from 3 to 'auto' in 1.4. Set the value of `n_init` explicitly to suppress the warning\n",
            "  warnings.warn(\n"
          ]
        },
        {
          "output_type": "display_data",
          "data": {
            "text/plain": [
              "<Figure size 800x400 with 1 Axes>"
            ],
            "image/png": "[encoded data removed]"
          },
          "metadata": {}
        }
      ]
    },
    {
      "cell_type": "code",
      "source": [
        "# From the elbow curve, let's choose K=3\n",
        "minibatch_kmeans = MiniBatchKMeans(n_clusters=3, random_state=42, batch_size=100)\n",
        "df['MiniBatchKMeans_Cluster'] = minibatch_kmeans.fit_predict(X_scaled)"
      ],
      "metadata": {
        "colab": {
          "base_uri": "https://localhost:8080/"
        },
        "id": "itawhX1nFy-Q",
        "outputId": "bc7b9411-f028-4342-85e2-49dc4359ef1d"
      },
      "execution_count": null,
      "outputs": [
        {
          "output_type": "stream",
          "name": "stderr",
          "text": [
            "/usr/local/lib/python3.10/dist-packages/sklearn/cluster/_kmeans.py:870: FutureWarning: The default value of `n_init` will change from 3 to 'auto' in 1.4. Set the value of `n_init` explicitly to suppress the warning\n",
            "  warnings.warn(\n"
          ]
        }
      ]
    },
    {
      "cell_type": "markdown",
      "source": [
        "## Predicting Gender Based on Running Patterns\n",
        "\n"
      ],
      "metadata": {
        "id": "Hsn81cmmPE-m"
      }
    },
    {
      "cell_type": "markdown",
      "source": [
        "### Decision Tree"
      ],
      "metadata": {
        "id": "hHJX6LZfA7Km"
      }
    },
    {
      "cell_type": "code",
      "source": [
        "from sklearn.tree import DecisionTreeClassifier\n",
        "from sklearn import metrics\n",
        "\n",
        "clf = DecisionTreeClassifier(random_state=42)\n",
        "\n",
        "X = df_clean.drop('M/F', axis = 1)\n",
        "X = pd.get_dummies(X, columns=['Country'], drop_first=True)\n",
        "y = df_clean['M/F']\n",
        "# Split data into training and testing sets\n",
        "X_train, X_test, y_train, y_test = train_test_split(X, y, test_size=0.2, random_state=42)\n",
        "\n",
        "# Train the classifier\n",
        "clf.fit(X_train, y_train)\n",
        "\n",
        "# Make predictions on the test set\n",
        "y_pred = clf.predict(X_test)\n",
        "\n",
        "# Calculate accuracy\n",
        "accuracy = metrics.accuracy_score(y_test, y_pred)\n",
        "print(f'Accuracy: {accuracy:.2f}')\n",
        "\n",
        "# Display the classification report\n",
        "print(metrics.classification_report(y_test, y_pred))\n",
        "\n",
        "# Display the confusion matrix\n",
        "print(metrics.confusion_matrix(y_test, y_pred))"
      ],
      "metadata": {
        "colab": {
          "base_uri": "https://localhost:8080/"
        },
        "id": "6ezp1yz1JyGF",
        "outputId": "51ea7a3c-77b5-4ec2-fbff-d4007c16d350"
      },
      "execution_count": null,
      "outputs": [
        {
          "output_type": "stream",
          "name": "stdout",
          "text": [
            "Accuracy: 0.75\n",
            "              precision    recall  f1-score   support\n",
            "\n",
            "           F       0.72      0.74      0.73      7120\n",
            "           M       0.78      0.77      0.78      8808\n",
            "\n",
            "    accuracy                           0.75     15928\n",
            "   macro avg       0.75      0.75      0.75     15928\n",
            "weighted avg       0.75      0.75      0.75     15928\n",
            "\n",
            "[[5242 1878]\n",
            " [2036 6772]]\n"
          ]
        }
      ]
    },
    {
      "cell_type": "markdown",
      "source": [
        "### Logistic Regression"
      ],
      "metadata": {
        "id": "8Jijz4d_Dihg"
      }
    },
    {
      "cell_type": "code",
      "source": [
        "from sklearn.linear_model import LogisticRegression\n",
        "\n",
        "# Initialize the Logistic Regression model\n",
        "logreg = LogisticRegression(max_iter=10000)\n",
        "\n",
        "# Train the model\n",
        "logreg.fit(X_train, y_train)\n",
        "\n",
        "# Make predictions on the test set\n",
        "y_pred = logreg.predict(X_test)\n",
        "\n",
        "# Calculate accuracy\n",
        "accuracy = metrics.accuracy_score(y_test, y_pred)\n",
        "print(f'Accuracy: {accuracy:.2f}')\n",
        "\n",
        "# Display the classification report\n",
        "print(metrics.classification_report(y_test, y_pred))\n",
        "\n",
        "# Display the confusion matrix\n",
        "print(metrics.confusion_matrix(y_test, y_pred))"
      ],
      "metadata": {
        "colab": {
          "base_uri": "https://localhost:8080/"
        },
        "id": "bIOiOFIJDh4o",
        "outputId": "ae1284fd-4daa-4b52-bc4e-0e055eceb065"
      },
      "execution_count": null,
      "outputs": [
        {
          "output_type": "stream",
          "name": "stdout",
          "text": [
            "Accuracy: 0.70\n",
            "              precision    recall  f1-score   support\n",
            "\n",
            "           F       0.67      0.64      0.66      7120\n",
            "           M       0.72      0.75      0.73      8808\n",
            "\n",
            "    accuracy                           0.70     15928\n",
            "   macro avg       0.70      0.70      0.70     15928\n",
            "weighted avg       0.70      0.70      0.70     15928\n",
            "\n",
            "[[4584 2536]\n",
            " [2220 6588]]\n"
          ]
        }
      ]
    }
  ],
  "metadata": {
    "kernelspec": {
      "display_name": "Python 3",
      "language": "python",
      "name": "python3"
    },
    "language_info": {
      "codemirror_mode": {
        "name": "ipython",
        "version": 3
      },
      "file_extension": ".py",
      "mimetype": "text/x-python",
      "name": "python",
      "nbconvert_exporter": "python",
      "pygments_lexer": "ipython3",
      "version": "3.9.12"
    },
    "orig_nbformat": 4,
    "colab": {
      "provenance": [],
      "toc_visible": true,
      "include_colab_link": true
    }
  },
  "nbformat": 4,
  "nbformat_minor": 0
}